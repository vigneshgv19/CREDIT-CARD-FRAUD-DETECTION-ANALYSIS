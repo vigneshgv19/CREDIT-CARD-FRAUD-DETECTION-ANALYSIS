{
 "cells": [
  {
   "cell_type": "code",
   "execution_count": 1,
   "id": "469b0f7d",
   "metadata": {},
   "outputs": [],
   "source": [
    "import pandas as pd\n",
    "import numpy as np\n",
    "import matplotlib.pyplot as plt\n",
    "%matplotlib inline\n",
    "import seaborn as sns\n",
    "import datetime\n",
    "from datetime import date\n",
    "import warnings\n",
    "warnings.filterwarnings(\"ignore\")\n"
   ]
  },
  {
   "cell_type": "code",
   "execution_count": 86,
   "id": "cc6f29e9",
   "metadata": {},
   "outputs": [
    {
     "data": {
      "text/html": [
       "<div>\n",
       "<style scoped>\n",
       "    .dataframe tbody tr th:only-of-type {\n",
       "        vertical-align: middle;\n",
       "    }\n",
       "\n",
       "    .dataframe tbody tr th {\n",
       "        vertical-align: top;\n",
       "    }\n",
       "\n",
       "    .dataframe thead th {\n",
       "        text-align: right;\n",
       "    }\n",
       "</style>\n",
       "<table border=\"1\" class=\"dataframe\">\n",
       "  <thead>\n",
       "    <tr style=\"text-align: right;\">\n",
       "      <th></th>\n",
       "      <th>ID</th>\n",
       "      <th>Year_Birth</th>\n",
       "      <th>Education</th>\n",
       "      <th>Marital_Status</th>\n",
       "      <th>Income</th>\n",
       "      <th>Kidhome</th>\n",
       "      <th>Teenhome</th>\n",
       "      <th>Dt_Customer</th>\n",
       "      <th>Recency</th>\n",
       "      <th>MntWines</th>\n",
       "      <th>...</th>\n",
       "      <th>NumWebVisitsMonth</th>\n",
       "      <th>AcceptedCmp1</th>\n",
       "      <th>AcceptedCmp2</th>\n",
       "      <th>AcceptedCmp3</th>\n",
       "      <th>AcceptedCmp4</th>\n",
       "      <th>AcceptedCmp5</th>\n",
       "      <th>Complain</th>\n",
       "      <th>Z_CostContact</th>\n",
       "      <th>Z_Revenue</th>\n",
       "      <th>Response</th>\n",
       "    </tr>\n",
       "  </thead>\n",
       "  <tbody>\n",
       "    <tr>\n",
       "      <th>0</th>\n",
       "      <td>5524</td>\n",
       "      <td>1957</td>\n",
       "      <td>Graduation</td>\n",
       "      <td>Single</td>\n",
       "      <td>58138.0</td>\n",
       "      <td>0</td>\n",
       "      <td>0</td>\n",
       "      <td>2012-09-04</td>\n",
       "      <td>58</td>\n",
       "      <td>635</td>\n",
       "      <td>...</td>\n",
       "      <td>7</td>\n",
       "      <td>0</td>\n",
       "      <td>0</td>\n",
       "      <td>0</td>\n",
       "      <td>0</td>\n",
       "      <td>0</td>\n",
       "      <td>0</td>\n",
       "      <td>3</td>\n",
       "      <td>11</td>\n",
       "      <td>1</td>\n",
       "    </tr>\n",
       "    <tr>\n",
       "      <th>1</th>\n",
       "      <td>2174</td>\n",
       "      <td>1954</td>\n",
       "      <td>Graduation</td>\n",
       "      <td>Single</td>\n",
       "      <td>46344.0</td>\n",
       "      <td>1</td>\n",
       "      <td>1</td>\n",
       "      <td>2014-03-08</td>\n",
       "      <td>38</td>\n",
       "      <td>11</td>\n",
       "      <td>...</td>\n",
       "      <td>5</td>\n",
       "      <td>0</td>\n",
       "      <td>0</td>\n",
       "      <td>0</td>\n",
       "      <td>0</td>\n",
       "      <td>0</td>\n",
       "      <td>0</td>\n",
       "      <td>3</td>\n",
       "      <td>11</td>\n",
       "      <td>0</td>\n",
       "    </tr>\n",
       "    <tr>\n",
       "      <th>2</th>\n",
       "      <td>4141</td>\n",
       "      <td>1965</td>\n",
       "      <td>Graduation</td>\n",
       "      <td>Together</td>\n",
       "      <td>71613.0</td>\n",
       "      <td>0</td>\n",
       "      <td>0</td>\n",
       "      <td>2013-08-21</td>\n",
       "      <td>26</td>\n",
       "      <td>426</td>\n",
       "      <td>...</td>\n",
       "      <td>4</td>\n",
       "      <td>0</td>\n",
       "      <td>0</td>\n",
       "      <td>0</td>\n",
       "      <td>0</td>\n",
       "      <td>0</td>\n",
       "      <td>0</td>\n",
       "      <td>3</td>\n",
       "      <td>11</td>\n",
       "      <td>0</td>\n",
       "    </tr>\n",
       "    <tr>\n",
       "      <th>3</th>\n",
       "      <td>6182</td>\n",
       "      <td>1984</td>\n",
       "      <td>Graduation</td>\n",
       "      <td>Together</td>\n",
       "      <td>26646.0</td>\n",
       "      <td>1</td>\n",
       "      <td>0</td>\n",
       "      <td>2014-02-10</td>\n",
       "      <td>26</td>\n",
       "      <td>11</td>\n",
       "      <td>...</td>\n",
       "      <td>6</td>\n",
       "      <td>0</td>\n",
       "      <td>0</td>\n",
       "      <td>0</td>\n",
       "      <td>0</td>\n",
       "      <td>0</td>\n",
       "      <td>0</td>\n",
       "      <td>3</td>\n",
       "      <td>11</td>\n",
       "      <td>0</td>\n",
       "    </tr>\n",
       "    <tr>\n",
       "      <th>4</th>\n",
       "      <td>5324</td>\n",
       "      <td>1981</td>\n",
       "      <td>PhD</td>\n",
       "      <td>Married</td>\n",
       "      <td>58293.0</td>\n",
       "      <td>1</td>\n",
       "      <td>0</td>\n",
       "      <td>2014-01-19</td>\n",
       "      <td>94</td>\n",
       "      <td>173</td>\n",
       "      <td>...</td>\n",
       "      <td>5</td>\n",
       "      <td>0</td>\n",
       "      <td>0</td>\n",
       "      <td>0</td>\n",
       "      <td>0</td>\n",
       "      <td>0</td>\n",
       "      <td>0</td>\n",
       "      <td>3</td>\n",
       "      <td>11</td>\n",
       "      <td>0</td>\n",
       "    </tr>\n",
       "    <tr>\n",
       "      <th>...</th>\n",
       "      <td>...</td>\n",
       "      <td>...</td>\n",
       "      <td>...</td>\n",
       "      <td>...</td>\n",
       "      <td>...</td>\n",
       "      <td>...</td>\n",
       "      <td>...</td>\n",
       "      <td>...</td>\n",
       "      <td>...</td>\n",
       "      <td>...</td>\n",
       "      <td>...</td>\n",
       "      <td>...</td>\n",
       "      <td>...</td>\n",
       "      <td>...</td>\n",
       "      <td>...</td>\n",
       "      <td>...</td>\n",
       "      <td>...</td>\n",
       "      <td>...</td>\n",
       "      <td>...</td>\n",
       "      <td>...</td>\n",
       "      <td>...</td>\n",
       "    </tr>\n",
       "    <tr>\n",
       "      <th>2235</th>\n",
       "      <td>10870</td>\n",
       "      <td>1967</td>\n",
       "      <td>Graduation</td>\n",
       "      <td>Married</td>\n",
       "      <td>61223.0</td>\n",
       "      <td>0</td>\n",
       "      <td>1</td>\n",
       "      <td>2013-06-13</td>\n",
       "      <td>46</td>\n",
       "      <td>709</td>\n",
       "      <td>...</td>\n",
       "      <td>5</td>\n",
       "      <td>0</td>\n",
       "      <td>0</td>\n",
       "      <td>0</td>\n",
       "      <td>0</td>\n",
       "      <td>0</td>\n",
       "      <td>0</td>\n",
       "      <td>3</td>\n",
       "      <td>11</td>\n",
       "      <td>0</td>\n",
       "    </tr>\n",
       "    <tr>\n",
       "      <th>2236</th>\n",
       "      <td>4001</td>\n",
       "      <td>1946</td>\n",
       "      <td>PhD</td>\n",
       "      <td>Together</td>\n",
       "      <td>64014.0</td>\n",
       "      <td>2</td>\n",
       "      <td>1</td>\n",
       "      <td>2014-06-10</td>\n",
       "      <td>56</td>\n",
       "      <td>406</td>\n",
       "      <td>...</td>\n",
       "      <td>7</td>\n",
       "      <td>1</td>\n",
       "      <td>0</td>\n",
       "      <td>0</td>\n",
       "      <td>0</td>\n",
       "      <td>0</td>\n",
       "      <td>0</td>\n",
       "      <td>3</td>\n",
       "      <td>11</td>\n",
       "      <td>0</td>\n",
       "    </tr>\n",
       "    <tr>\n",
       "      <th>2237</th>\n",
       "      <td>7270</td>\n",
       "      <td>1981</td>\n",
       "      <td>Graduation</td>\n",
       "      <td>Divorced</td>\n",
       "      <td>56981.0</td>\n",
       "      <td>0</td>\n",
       "      <td>0</td>\n",
       "      <td>2014-01-25</td>\n",
       "      <td>91</td>\n",
       "      <td>908</td>\n",
       "      <td>...</td>\n",
       "      <td>6</td>\n",
       "      <td>0</td>\n",
       "      <td>0</td>\n",
       "      <td>0</td>\n",
       "      <td>1</td>\n",
       "      <td>0</td>\n",
       "      <td>0</td>\n",
       "      <td>3</td>\n",
       "      <td>11</td>\n",
       "      <td>0</td>\n",
       "    </tr>\n",
       "    <tr>\n",
       "      <th>2238</th>\n",
       "      <td>8235</td>\n",
       "      <td>1956</td>\n",
       "      <td>Master</td>\n",
       "      <td>Together</td>\n",
       "      <td>69245.0</td>\n",
       "      <td>0</td>\n",
       "      <td>1</td>\n",
       "      <td>2014-01-24</td>\n",
       "      <td>8</td>\n",
       "      <td>428</td>\n",
       "      <td>...</td>\n",
       "      <td>3</td>\n",
       "      <td>0</td>\n",
       "      <td>0</td>\n",
       "      <td>0</td>\n",
       "      <td>0</td>\n",
       "      <td>0</td>\n",
       "      <td>0</td>\n",
       "      <td>3</td>\n",
       "      <td>11</td>\n",
       "      <td>0</td>\n",
       "    </tr>\n",
       "    <tr>\n",
       "      <th>2239</th>\n",
       "      <td>9405</td>\n",
       "      <td>1954</td>\n",
       "      <td>PhD</td>\n",
       "      <td>Married</td>\n",
       "      <td>52869.0</td>\n",
       "      <td>1</td>\n",
       "      <td>1</td>\n",
       "      <td>2012-10-15</td>\n",
       "      <td>40</td>\n",
       "      <td>84</td>\n",
       "      <td>...</td>\n",
       "      <td>7</td>\n",
       "      <td>0</td>\n",
       "      <td>0</td>\n",
       "      <td>0</td>\n",
       "      <td>0</td>\n",
       "      <td>0</td>\n",
       "      <td>0</td>\n",
       "      <td>3</td>\n",
       "      <td>11</td>\n",
       "      <td>1</td>\n",
       "    </tr>\n",
       "  </tbody>\n",
       "</table>\n",
       "<p>2240 rows × 29 columns</p>\n",
       "</div>"
      ],
      "text/plain": [
       "         ID  Year_Birth   Education Marital_Status   Income  Kidhome  \\\n",
       "0      5524        1957  Graduation         Single  58138.0        0   \n",
       "1      2174        1954  Graduation         Single  46344.0        1   \n",
       "2      4141        1965  Graduation       Together  71613.0        0   \n",
       "3      6182        1984  Graduation       Together  26646.0        1   \n",
       "4      5324        1981         PhD        Married  58293.0        1   \n",
       "...     ...         ...         ...            ...      ...      ...   \n",
       "2235  10870        1967  Graduation        Married  61223.0        0   \n",
       "2236   4001        1946         PhD       Together  64014.0        2   \n",
       "2237   7270        1981  Graduation       Divorced  56981.0        0   \n",
       "2238   8235        1956      Master       Together  69245.0        0   \n",
       "2239   9405        1954         PhD        Married  52869.0        1   \n",
       "\n",
       "      Teenhome Dt_Customer  Recency  MntWines  ...  NumWebVisitsMonth  \\\n",
       "0            0  2012-09-04       58       635  ...                  7   \n",
       "1            1  2014-03-08       38        11  ...                  5   \n",
       "2            0  2013-08-21       26       426  ...                  4   \n",
       "3            0  2014-02-10       26        11  ...                  6   \n",
       "4            0  2014-01-19       94       173  ...                  5   \n",
       "...        ...         ...      ...       ...  ...                ...   \n",
       "2235         1  2013-06-13       46       709  ...                  5   \n",
       "2236         1  2014-06-10       56       406  ...                  7   \n",
       "2237         0  2014-01-25       91       908  ...                  6   \n",
       "2238         1  2014-01-24        8       428  ...                  3   \n",
       "2239         1  2012-10-15       40        84  ...                  7   \n",
       "\n",
       "      AcceptedCmp1  AcceptedCmp2  AcceptedCmp3  AcceptedCmp4  AcceptedCmp5  \\\n",
       "0                0             0             0             0             0   \n",
       "1                0             0             0             0             0   \n",
       "2                0             0             0             0             0   \n",
       "3                0             0             0             0             0   \n",
       "4                0             0             0             0             0   \n",
       "...            ...           ...           ...           ...           ...   \n",
       "2235             0             0             0             0             0   \n",
       "2236             1             0             0             0             0   \n",
       "2237             0             0             0             1             0   \n",
       "2238             0             0             0             0             0   \n",
       "2239             0             0             0             0             0   \n",
       "\n",
       "      Complain  Z_CostContact  Z_Revenue  Response  \n",
       "0            0              3         11         1  \n",
       "1            0              3         11         0  \n",
       "2            0              3         11         0  \n",
       "3            0              3         11         0  \n",
       "4            0              3         11         0  \n",
       "...        ...            ...        ...       ...  \n",
       "2235         0              3         11         0  \n",
       "2236         0              3         11         0  \n",
       "2237         0              3         11         0  \n",
       "2238         0              3         11         0  \n",
       "2239         0              3         11         1  \n",
       "\n",
       "[2240 rows x 29 columns]"
      ]
     },
     "execution_count": 86,
     "metadata": {},
     "output_type": "execute_result"
    }
   ],
   "source": [
    "df = pd.read_excel('marketing_campaign.xlsx')\n",
    "df"
   ]
  },
  {
   "cell_type": "code",
   "execution_count": 87,
   "id": "5aea259c",
   "metadata": {},
   "outputs": [
    {
     "data": {
      "text/plain": [
       "ID                      0\n",
       "Year_Birth              0\n",
       "Education               0\n",
       "Marital_Status          0\n",
       "Income                 24\n",
       "Kidhome                 0\n",
       "Teenhome                0\n",
       "Dt_Customer             0\n",
       "Recency                 0\n",
       "MntWines                0\n",
       "MntFruits               0\n",
       "MntMeatProducts         0\n",
       "MntFishProducts         0\n",
       "MntSweetProducts        0\n",
       "MntGoldProds            0\n",
       "NumDealsPurchases       0\n",
       "NumWebPurchases         0\n",
       "NumCatalogPurchases     0\n",
       "NumStorePurchases       0\n",
       "NumWebVisitsMonth       0\n",
       "AcceptedCmp1            0\n",
       "AcceptedCmp2            0\n",
       "AcceptedCmp3            0\n",
       "AcceptedCmp4            0\n",
       "AcceptedCmp5            0\n",
       "Complain                0\n",
       "Z_CostContact           0\n",
       "Z_Revenue               0\n",
       "Response                0\n",
       "dtype: int64"
      ]
     },
     "execution_count": 87,
     "metadata": {},
     "output_type": "execute_result"
    }
   ],
   "source": [
    "df.isnull().sum()"
   ]
  },
  {
   "cell_type": "code",
   "execution_count": 88,
   "id": "d42f351f",
   "metadata": {},
   "outputs": [],
   "source": [
    "# Filling missing Income values with column mean\n",
    "df['Income'] = df['Income'].fillna(df['Income'].mean())"
   ]
  },
  {
   "cell_type": "code",
   "execution_count": 89,
   "id": "aa7f64f4",
   "metadata": {},
   "outputs": [
    {
     "data": {
      "text/plain": [
       "ID                     0\n",
       "Year_Birth             0\n",
       "Education              0\n",
       "Marital_Status         0\n",
       "Income                 0\n",
       "Kidhome                0\n",
       "Teenhome               0\n",
       "Dt_Customer            0\n",
       "Recency                0\n",
       "MntWines               0\n",
       "MntFruits              0\n",
       "MntMeatProducts        0\n",
       "MntFishProducts        0\n",
       "MntSweetProducts       0\n",
       "MntGoldProds           0\n",
       "NumDealsPurchases      0\n",
       "NumWebPurchases        0\n",
       "NumCatalogPurchases    0\n",
       "NumStorePurchases      0\n",
       "NumWebVisitsMonth      0\n",
       "AcceptedCmp1           0\n",
       "AcceptedCmp2           0\n",
       "AcceptedCmp3           0\n",
       "AcceptedCmp4           0\n",
       "AcceptedCmp5           0\n",
       "Complain               0\n",
       "Z_CostContact          0\n",
       "Z_Revenue              0\n",
       "Response               0\n",
       "dtype: int64"
      ]
     },
     "execution_count": 89,
     "metadata": {},
     "output_type": "execute_result"
    }
   ],
   "source": [
    "df.isnull().sum()"
   ]
  },
  {
   "cell_type": "code",
   "execution_count": 90,
   "id": "d3a71cb4",
   "metadata": {},
   "outputs": [
    {
     "data": {
      "text/plain": [
       "0       False\n",
       "1       False\n",
       "2       False\n",
       "3       False\n",
       "4       False\n",
       "        ...  \n",
       "2235    False\n",
       "2236    False\n",
       "2237    False\n",
       "2238    False\n",
       "2239    False\n",
       "Length: 2240, dtype: bool"
      ]
     },
     "execution_count": 90,
     "metadata": {},
     "output_type": "execute_result"
    }
   ],
   "source": [
    "duplicate = df.duplicated()\n",
    "duplicate"
   ]
  },
  {
   "cell_type": "code",
   "execution_count": 91,
   "id": "4d0075e4",
   "metadata": {},
   "outputs": [
    {
     "data": {
      "text/plain": [
       "0"
      ]
     },
     "execution_count": 91,
     "metadata": {},
     "output_type": "execute_result"
    }
   ],
   "source": [
    "duplicate.sum()"
   ]
  },
  {
   "cell_type": "code",
   "execution_count": 92,
   "id": "f8a81adf",
   "metadata": {},
   "outputs": [
    {
     "name": "stdout",
     "output_type": "stream",
     "text": [
      "<class 'pandas.core.frame.DataFrame'>\n",
      "RangeIndex: 2240 entries, 0 to 2239\n",
      "Data columns (total 29 columns):\n",
      " #   Column               Non-Null Count  Dtype  \n",
      "---  ------               --------------  -----  \n",
      " 0   ID                   2240 non-null   int64  \n",
      " 1   Year_Birth           2240 non-null   int64  \n",
      " 2   Education            2240 non-null   object \n",
      " 3   Marital_Status       2240 non-null   object \n",
      " 4   Income               2240 non-null   float64\n",
      " 5   Kidhome              2240 non-null   int64  \n",
      " 6   Teenhome             2240 non-null   int64  \n",
      " 7   Dt_Customer          2240 non-null   object \n",
      " 8   Recency              2240 non-null   int64  \n",
      " 9   MntWines             2240 non-null   int64  \n",
      " 10  MntFruits            2240 non-null   int64  \n",
      " 11  MntMeatProducts      2240 non-null   int64  \n",
      " 12  MntFishProducts      2240 non-null   int64  \n",
      " 13  MntSweetProducts     2240 non-null   int64  \n",
      " 14  MntGoldProds         2240 non-null   int64  \n",
      " 15  NumDealsPurchases    2240 non-null   int64  \n",
      " 16  NumWebPurchases      2240 non-null   int64  \n",
      " 17  NumCatalogPurchases  2240 non-null   int64  \n",
      " 18  NumStorePurchases    2240 non-null   int64  \n",
      " 19  NumWebVisitsMonth    2240 non-null   int64  \n",
      " 20  AcceptedCmp1         2240 non-null   int64  \n",
      " 21  AcceptedCmp2         2240 non-null   int64  \n",
      " 22  AcceptedCmp3         2240 non-null   int64  \n",
      " 23  AcceptedCmp4         2240 non-null   int64  \n",
      " 24  AcceptedCmp5         2240 non-null   int64  \n",
      " 25  Complain             2240 non-null   int64  \n",
      " 26  Z_CostContact        2240 non-null   int64  \n",
      " 27  Z_Revenue            2240 non-null   int64  \n",
      " 28  Response             2240 non-null   int64  \n",
      "dtypes: float64(1), int64(25), object(3)\n",
      "memory usage: 507.6+ KB\n"
     ]
    }
   ],
   "source": [
    "df.info()"
   ]
  },
  {
   "cell_type": "code",
   "execution_count": 93,
   "id": "f4af60f0",
   "metadata": {},
   "outputs": [],
   "source": [
    "# We will create five variables :\n",
    "\n",
    "# Variable __*Spending*__ as the sum of the amount spent on the 6 product categories\n",
    "# Variable __*Seniority*__ as the number of months the customer is enrolled with the company\n",
    "# Variable __*'No_of_Visits&Purchase'*__as the sum of the visits and purchase made online as well as offline\n",
    "# Variable __*'Accepted_offers'*__as the sum of all 5 Marketing campaign\n",
    "# Variable __*'home_members'*__as the sum of Kidhome & Teenhome"
   ]
  },
  {
   "cell_type": "code",
   "execution_count": 94,
   "id": "b9bf9b95",
   "metadata": {},
   "outputs": [],
   "source": [
    "#Spending variable creation\n",
    "df['Spending']=df['MntWines']+df['MntFruits']+df['MntMeatProducts']+df['MntFishProducts']+df['MntSweetProducts']\n",
    "+df['MntGoldProds']\n",
    "\n",
    "#No_of_Visits&Purchase variable creation\n",
    "df['No_of_Visits_and_Purchase']=df['NumDealsPurchases']+df['NumWebPurchases']+df['NumCatalogPurchases']\n",
    "+df['NumStorePurchases']+df['NumWebVisitsMonth']\n",
    "\n",
    "#Accepted_offers variable creation\n",
    "df['Accepted_offers']=df['AcceptedCmp1']+df['AcceptedCmp2']+df['AcceptedCmp3']+df['AcceptedCmp4']+df['AcceptedCmp5']\n",
    "\n",
    "#person@home variable creation\n",
    "df['home_members']=df['Kidhome']+df['Teenhome']\n",
    "\n",
    "#Seniority variable creation\n",
    "last_date = date(2014,10, 4)\n",
    "df['Seniority']=pd.to_datetime(df['Dt_Customer'], dayfirst=True,format = '%Y-%m-%d')\n",
    "df['Seniority'] = pd.to_numeric(df['Seniority'].dt.date.apply(lambda x: (last_date - x)).dt.days, downcast='integer')/30\n",
    "\n",
    "dfset=df[['Income','Spending','Seniority']]"
   ]
  },
  {
   "cell_type": "code",
   "execution_count": 95,
   "id": "6aa09dea",
   "metadata": {},
   "outputs": [],
   "source": [
    "# We will remove the unused variables for this analysis\n",
    "\n",
    "# df['Educationnal_years']=df['Education'].replace({'Basic':5,'2n Cycle':8,'Graduation':12,'Master':18,'PhD':21})\n",
    "df=df.drop(columns=['Dt_Customer',\"NumDealsPurchases\",\"NumWebPurchases\",\"NumCatalogPurchases\",\"NumStorePurchases\",\n",
    "                    \"NumWebVisitsMonth\",'Z_CostContact','Z_Revenue','MntWines'\n",
    "                    ,'MntFruits','MntMeatProducts',\n",
    "                    'MntFishProducts','MntSweetProducts','MntGoldProds'\n",
    "                   ,\"AcceptedCmp1\",\"AcceptedCmp2\",\"AcceptedCmp3\",\"AcceptedCmp4\",\"AcceptedCmp5\"\n",
    "                   ,'Kidhome','Teenhome'])\n"
   ]
  },
  {
   "cell_type": "code",
   "execution_count": 96,
   "id": "3c8b9b2e",
   "metadata": {},
   "outputs": [],
   "source": [
    "#1.Outliers removala\n",
    "df = df.drop(df[df['Spending']> 2250].index).reset_index(drop=True)\n",
    "df = df.drop(df[df['Income']> 125000].index).reset_index(drop=True)"
   ]
  },
  {
   "cell_type": "code",
   "execution_count": 97,
   "id": "753a2a78",
   "metadata": {},
   "outputs": [],
   "source": [
    "from sklearn.preprocessing import LabelEncoder"
   ]
  },
  {
   "cell_type": "code",
   "execution_count": 98,
   "id": "72f04b07",
   "metadata": {},
   "outputs": [],
   "source": [
    "# df['Education'] = LabelEncoder().fit_transform(df['Education'])\n",
    "#df['Marital_Status'] = LabelEncoder().fit_transform(df['Marital_Status'])\n",
    "#df['Education'] = LabelEncoder().fit_transform(df['Education'])"
   ]
  },
  {
   "cell_type": "code",
   "execution_count": 99,
   "id": "3769098d",
   "metadata": {},
   "outputs": [
    {
     "data": {
      "text/html": [
       "<div>\n",
       "<style scoped>\n",
       "    .dataframe tbody tr th:only-of-type {\n",
       "        vertical-align: middle;\n",
       "    }\n",
       "\n",
       "    .dataframe tbody tr th {\n",
       "        vertical-align: top;\n",
       "    }\n",
       "\n",
       "    .dataframe thead th {\n",
       "        text-align: right;\n",
       "    }\n",
       "</style>\n",
       "<table border=\"1\" class=\"dataframe\">\n",
       "  <thead>\n",
       "    <tr style=\"text-align: right;\">\n",
       "      <th></th>\n",
       "      <th>ID</th>\n",
       "      <th>Year_Birth</th>\n",
       "      <th>Education</th>\n",
       "      <th>Marital_Status</th>\n",
       "      <th>Income</th>\n",
       "      <th>Recency</th>\n",
       "      <th>Complain</th>\n",
       "      <th>Response</th>\n",
       "      <th>Spending</th>\n",
       "      <th>No_of_Visits_and_Purchase</th>\n",
       "      <th>Accepted_offers</th>\n",
       "      <th>home_members</th>\n",
       "      <th>Seniority</th>\n",
       "    </tr>\n",
       "  </thead>\n",
       "  <tbody>\n",
       "    <tr>\n",
       "      <th>0</th>\n",
       "      <td>5524</td>\n",
       "      <td>1957</td>\n",
       "      <td>Graduation</td>\n",
       "      <td>Single</td>\n",
       "      <td>58138.0</td>\n",
       "      <td>58</td>\n",
       "      <td>0</td>\n",
       "      <td>1</td>\n",
       "      <td>1529</td>\n",
       "      <td>21</td>\n",
       "      <td>0</td>\n",
       "      <td>0</td>\n",
       "      <td>25.333333</td>\n",
       "    </tr>\n",
       "    <tr>\n",
       "      <th>1</th>\n",
       "      <td>2174</td>\n",
       "      <td>1954</td>\n",
       "      <td>Graduation</td>\n",
       "      <td>Single</td>\n",
       "      <td>46344.0</td>\n",
       "      <td>38</td>\n",
       "      <td>0</td>\n",
       "      <td>0</td>\n",
       "      <td>21</td>\n",
       "      <td>4</td>\n",
       "      <td>0</td>\n",
       "      <td>2</td>\n",
       "      <td>7.000000</td>\n",
       "    </tr>\n",
       "    <tr>\n",
       "      <th>2</th>\n",
       "      <td>4141</td>\n",
       "      <td>1965</td>\n",
       "      <td>Graduation</td>\n",
       "      <td>Together</td>\n",
       "      <td>71613.0</td>\n",
       "      <td>26</td>\n",
       "      <td>0</td>\n",
       "      <td>0</td>\n",
       "      <td>734</td>\n",
       "      <td>11</td>\n",
       "      <td>0</td>\n",
       "      <td>0</td>\n",
       "      <td>13.633333</td>\n",
       "    </tr>\n",
       "    <tr>\n",
       "      <th>3</th>\n",
       "      <td>6182</td>\n",
       "      <td>1984</td>\n",
       "      <td>Graduation</td>\n",
       "      <td>Together</td>\n",
       "      <td>26646.0</td>\n",
       "      <td>26</td>\n",
       "      <td>0</td>\n",
       "      <td>0</td>\n",
       "      <td>48</td>\n",
       "      <td>4</td>\n",
       "      <td>0</td>\n",
       "      <td>1</td>\n",
       "      <td>7.866667</td>\n",
       "    </tr>\n",
       "    <tr>\n",
       "      <th>4</th>\n",
       "      <td>5324</td>\n",
       "      <td>1981</td>\n",
       "      <td>PhD</td>\n",
       "      <td>Married</td>\n",
       "      <td>58293.0</td>\n",
       "      <td>94</td>\n",
       "      <td>0</td>\n",
       "      <td>0</td>\n",
       "      <td>407</td>\n",
       "      <td>13</td>\n",
       "      <td>0</td>\n",
       "      <td>1</td>\n",
       "      <td>8.600000</td>\n",
       "    </tr>\n",
       "    <tr>\n",
       "      <th>...</th>\n",
       "      <td>...</td>\n",
       "      <td>...</td>\n",
       "      <td>...</td>\n",
       "      <td>...</td>\n",
       "      <td>...</td>\n",
       "      <td>...</td>\n",
       "      <td>...</td>\n",
       "      <td>...</td>\n",
       "      <td>...</td>\n",
       "      <td>...</td>\n",
       "      <td>...</td>\n",
       "      <td>...</td>\n",
       "      <td>...</td>\n",
       "    </tr>\n",
       "    <tr>\n",
       "      <th>2221</th>\n",
       "      <td>10870</td>\n",
       "      <td>1967</td>\n",
       "      <td>Graduation</td>\n",
       "      <td>Married</td>\n",
       "      <td>61223.0</td>\n",
       "      <td>46</td>\n",
       "      <td>0</td>\n",
       "      <td>0</td>\n",
       "      <td>1094</td>\n",
       "      <td>14</td>\n",
       "      <td>0</td>\n",
       "      <td>1</td>\n",
       "      <td>15.933333</td>\n",
       "    </tr>\n",
       "    <tr>\n",
       "      <th>2222</th>\n",
       "      <td>4001</td>\n",
       "      <td>1946</td>\n",
       "      <td>PhD</td>\n",
       "      <td>Together</td>\n",
       "      <td>64014.0</td>\n",
       "      <td>56</td>\n",
       "      <td>0</td>\n",
       "      <td>0</td>\n",
       "      <td>436</td>\n",
       "      <td>17</td>\n",
       "      <td>1</td>\n",
       "      <td>3</td>\n",
       "      <td>3.866667</td>\n",
       "    </tr>\n",
       "    <tr>\n",
       "      <th>2223</th>\n",
       "      <td>7270</td>\n",
       "      <td>1981</td>\n",
       "      <td>Graduation</td>\n",
       "      <td>Divorced</td>\n",
       "      <td>56981.0</td>\n",
       "      <td>91</td>\n",
       "      <td>0</td>\n",
       "      <td>0</td>\n",
       "      <td>1217</td>\n",
       "      <td>6</td>\n",
       "      <td>1</td>\n",
       "      <td>0</td>\n",
       "      <td>8.400000</td>\n",
       "    </tr>\n",
       "    <tr>\n",
       "      <th>2224</th>\n",
       "      <td>8235</td>\n",
       "      <td>1956</td>\n",
       "      <td>Master</td>\n",
       "      <td>Together</td>\n",
       "      <td>69245.0</td>\n",
       "      <td>8</td>\n",
       "      <td>0</td>\n",
       "      <td>0</td>\n",
       "      <td>782</td>\n",
       "      <td>13</td>\n",
       "      <td>0</td>\n",
       "      <td>1</td>\n",
       "      <td>8.433333</td>\n",
       "    </tr>\n",
       "    <tr>\n",
       "      <th>2225</th>\n",
       "      <td>9405</td>\n",
       "      <td>1954</td>\n",
       "      <td>PhD</td>\n",
       "      <td>Married</td>\n",
       "      <td>52869.0</td>\n",
       "      <td>40</td>\n",
       "      <td>0</td>\n",
       "      <td>1</td>\n",
       "      <td>151</td>\n",
       "      <td>7</td>\n",
       "      <td>0</td>\n",
       "      <td>2</td>\n",
       "      <td>23.966667</td>\n",
       "    </tr>\n",
       "  </tbody>\n",
       "</table>\n",
       "<p>2226 rows × 13 columns</p>\n",
       "</div>"
      ],
      "text/plain": [
       "         ID  Year_Birth   Education Marital_Status   Income  Recency  \\\n",
       "0      5524        1957  Graduation         Single  58138.0       58   \n",
       "1      2174        1954  Graduation         Single  46344.0       38   \n",
       "2      4141        1965  Graduation       Together  71613.0       26   \n",
       "3      6182        1984  Graduation       Together  26646.0       26   \n",
       "4      5324        1981         PhD        Married  58293.0       94   \n",
       "...     ...         ...         ...            ...      ...      ...   \n",
       "2221  10870        1967  Graduation        Married  61223.0       46   \n",
       "2222   4001        1946         PhD       Together  64014.0       56   \n",
       "2223   7270        1981  Graduation       Divorced  56981.0       91   \n",
       "2224   8235        1956      Master       Together  69245.0        8   \n",
       "2225   9405        1954         PhD        Married  52869.0       40   \n",
       "\n",
       "      Complain  Response  Spending  No_of_Visits_and_Purchase  \\\n",
       "0            0         1      1529                         21   \n",
       "1            0         0        21                          4   \n",
       "2            0         0       734                         11   \n",
       "3            0         0        48                          4   \n",
       "4            0         0       407                         13   \n",
       "...        ...       ...       ...                        ...   \n",
       "2221         0         0      1094                         14   \n",
       "2222         0         0       436                         17   \n",
       "2223         0         0      1217                          6   \n",
       "2224         0         0       782                         13   \n",
       "2225         0         1       151                          7   \n",
       "\n",
       "      Accepted_offers  home_members  Seniority  \n",
       "0                   0             0  25.333333  \n",
       "1                   0             2   7.000000  \n",
       "2                   0             0  13.633333  \n",
       "3                   0             1   7.866667  \n",
       "4                   0             1   8.600000  \n",
       "...               ...           ...        ...  \n",
       "2221                0             1  15.933333  \n",
       "2222                1             3   3.866667  \n",
       "2223                1             0   8.400000  \n",
       "2224                0             1   8.433333  \n",
       "2225                0             2  23.966667  \n",
       "\n",
       "[2226 rows x 13 columns]"
      ]
     },
     "execution_count": 99,
     "metadata": {},
     "output_type": "execute_result"
    }
   ],
   "source": [
    "df"
   ]
  },
  {
   "cell_type": "code",
   "execution_count": 102,
   "id": "df0fdae8",
   "metadata": {},
   "outputs": [
    {
     "data": {
      "text/html": [
       "<div>\n",
       "<style scoped>\n",
       "    .dataframe tbody tr th:only-of-type {\n",
       "        vertical-align: middle;\n",
       "    }\n",
       "\n",
       "    .dataframe tbody tr th {\n",
       "        vertical-align: top;\n",
       "    }\n",
       "\n",
       "    .dataframe thead th {\n",
       "        text-align: right;\n",
       "    }\n",
       "</style>\n",
       "<table border=\"1\" class=\"dataframe\">\n",
       "  <thead>\n",
       "    <tr style=\"text-align: right;\">\n",
       "      <th></th>\n",
       "      <th>ID</th>\n",
       "      <th>Year_Birth</th>\n",
       "      <th>Education</th>\n",
       "      <th>Marital_Status</th>\n",
       "      <th>Income</th>\n",
       "      <th>Recency</th>\n",
       "      <th>Complain</th>\n",
       "      <th>Spending</th>\n",
       "      <th>No_of_Visits_and_Purchase</th>\n",
       "      <th>Accepted_offers</th>\n",
       "      <th>home_members</th>\n",
       "      <th>Seniority</th>\n",
       "    </tr>\n",
       "  </thead>\n",
       "  <tbody>\n",
       "    <tr>\n",
       "      <th>0</th>\n",
       "      <td>5524</td>\n",
       "      <td>1957</td>\n",
       "      <td>Graduation</td>\n",
       "      <td>Single</td>\n",
       "      <td>58138.0</td>\n",
       "      <td>58</td>\n",
       "      <td>0</td>\n",
       "      <td>1529</td>\n",
       "      <td>21</td>\n",
       "      <td>0</td>\n",
       "      <td>0</td>\n",
       "      <td>25.333333</td>\n",
       "    </tr>\n",
       "    <tr>\n",
       "      <th>1</th>\n",
       "      <td>2174</td>\n",
       "      <td>1954</td>\n",
       "      <td>Graduation</td>\n",
       "      <td>Single</td>\n",
       "      <td>46344.0</td>\n",
       "      <td>38</td>\n",
       "      <td>0</td>\n",
       "      <td>21</td>\n",
       "      <td>4</td>\n",
       "      <td>0</td>\n",
       "      <td>2</td>\n",
       "      <td>7.000000</td>\n",
       "    </tr>\n",
       "    <tr>\n",
       "      <th>2</th>\n",
       "      <td>4141</td>\n",
       "      <td>1965</td>\n",
       "      <td>Graduation</td>\n",
       "      <td>Together</td>\n",
       "      <td>71613.0</td>\n",
       "      <td>26</td>\n",
       "      <td>0</td>\n",
       "      <td>734</td>\n",
       "      <td>11</td>\n",
       "      <td>0</td>\n",
       "      <td>0</td>\n",
       "      <td>13.633333</td>\n",
       "    </tr>\n",
       "    <tr>\n",
       "      <th>3</th>\n",
       "      <td>6182</td>\n",
       "      <td>1984</td>\n",
       "      <td>Graduation</td>\n",
       "      <td>Together</td>\n",
       "      <td>26646.0</td>\n",
       "      <td>26</td>\n",
       "      <td>0</td>\n",
       "      <td>48</td>\n",
       "      <td>4</td>\n",
       "      <td>0</td>\n",
       "      <td>1</td>\n",
       "      <td>7.866667</td>\n",
       "    </tr>\n",
       "    <tr>\n",
       "      <th>4</th>\n",
       "      <td>5324</td>\n",
       "      <td>1981</td>\n",
       "      <td>PhD</td>\n",
       "      <td>Married</td>\n",
       "      <td>58293.0</td>\n",
       "      <td>94</td>\n",
       "      <td>0</td>\n",
       "      <td>407</td>\n",
       "      <td>13</td>\n",
       "      <td>0</td>\n",
       "      <td>1</td>\n",
       "      <td>8.600000</td>\n",
       "    </tr>\n",
       "    <tr>\n",
       "      <th>...</th>\n",
       "      <td>...</td>\n",
       "      <td>...</td>\n",
       "      <td>...</td>\n",
       "      <td>...</td>\n",
       "      <td>...</td>\n",
       "      <td>...</td>\n",
       "      <td>...</td>\n",
       "      <td>...</td>\n",
       "      <td>...</td>\n",
       "      <td>...</td>\n",
       "      <td>...</td>\n",
       "      <td>...</td>\n",
       "    </tr>\n",
       "    <tr>\n",
       "      <th>2221</th>\n",
       "      <td>10870</td>\n",
       "      <td>1967</td>\n",
       "      <td>Graduation</td>\n",
       "      <td>Married</td>\n",
       "      <td>61223.0</td>\n",
       "      <td>46</td>\n",
       "      <td>0</td>\n",
       "      <td>1094</td>\n",
       "      <td>14</td>\n",
       "      <td>0</td>\n",
       "      <td>1</td>\n",
       "      <td>15.933333</td>\n",
       "    </tr>\n",
       "    <tr>\n",
       "      <th>2222</th>\n",
       "      <td>4001</td>\n",
       "      <td>1946</td>\n",
       "      <td>PhD</td>\n",
       "      <td>Together</td>\n",
       "      <td>64014.0</td>\n",
       "      <td>56</td>\n",
       "      <td>0</td>\n",
       "      <td>436</td>\n",
       "      <td>17</td>\n",
       "      <td>1</td>\n",
       "      <td>3</td>\n",
       "      <td>3.866667</td>\n",
       "    </tr>\n",
       "    <tr>\n",
       "      <th>2223</th>\n",
       "      <td>7270</td>\n",
       "      <td>1981</td>\n",
       "      <td>Graduation</td>\n",
       "      <td>Divorced</td>\n",
       "      <td>56981.0</td>\n",
       "      <td>91</td>\n",
       "      <td>0</td>\n",
       "      <td>1217</td>\n",
       "      <td>6</td>\n",
       "      <td>1</td>\n",
       "      <td>0</td>\n",
       "      <td>8.400000</td>\n",
       "    </tr>\n",
       "    <tr>\n",
       "      <th>2224</th>\n",
       "      <td>8235</td>\n",
       "      <td>1956</td>\n",
       "      <td>Master</td>\n",
       "      <td>Together</td>\n",
       "      <td>69245.0</td>\n",
       "      <td>8</td>\n",
       "      <td>0</td>\n",
       "      <td>782</td>\n",
       "      <td>13</td>\n",
       "      <td>0</td>\n",
       "      <td>1</td>\n",
       "      <td>8.433333</td>\n",
       "    </tr>\n",
       "    <tr>\n",
       "      <th>2225</th>\n",
       "      <td>9405</td>\n",
       "      <td>1954</td>\n",
       "      <td>PhD</td>\n",
       "      <td>Married</td>\n",
       "      <td>52869.0</td>\n",
       "      <td>40</td>\n",
       "      <td>0</td>\n",
       "      <td>151</td>\n",
       "      <td>7</td>\n",
       "      <td>0</td>\n",
       "      <td>2</td>\n",
       "      <td>23.966667</td>\n",
       "    </tr>\n",
       "  </tbody>\n",
       "</table>\n",
       "<p>2226 rows × 12 columns</p>\n",
       "</div>"
      ],
      "text/plain": [
       "         ID  Year_Birth   Education Marital_Status   Income  Recency  \\\n",
       "0      5524        1957  Graduation         Single  58138.0       58   \n",
       "1      2174        1954  Graduation         Single  46344.0       38   \n",
       "2      4141        1965  Graduation       Together  71613.0       26   \n",
       "3      6182        1984  Graduation       Together  26646.0       26   \n",
       "4      5324        1981         PhD        Married  58293.0       94   \n",
       "...     ...         ...         ...            ...      ...      ...   \n",
       "2221  10870        1967  Graduation        Married  61223.0       46   \n",
       "2222   4001        1946         PhD       Together  64014.0       56   \n",
       "2223   7270        1981  Graduation       Divorced  56981.0       91   \n",
       "2224   8235        1956      Master       Together  69245.0        8   \n",
       "2225   9405        1954         PhD        Married  52869.0       40   \n",
       "\n",
       "      Complain  Spending  No_of_Visits_and_Purchase  Accepted_offers  \\\n",
       "0            0      1529                         21                0   \n",
       "1            0        21                          4                0   \n",
       "2            0       734                         11                0   \n",
       "3            0        48                          4                0   \n",
       "4            0       407                         13                0   \n",
       "...        ...       ...                        ...              ...   \n",
       "2221         0      1094                         14                0   \n",
       "2222         0       436                         17                1   \n",
       "2223         0      1217                          6                1   \n",
       "2224         0       782                         13                0   \n",
       "2225         0       151                          7                0   \n",
       "\n",
       "      home_members  Seniority  \n",
       "0                0  25.333333  \n",
       "1                2   7.000000  \n",
       "2                0  13.633333  \n",
       "3                1   7.866667  \n",
       "4                1   8.600000  \n",
       "...            ...        ...  \n",
       "2221             1  15.933333  \n",
       "2222             3   3.866667  \n",
       "2223             0   8.400000  \n",
       "2224             1   8.433333  \n",
       "2225             2  23.966667  \n",
       "\n",
       "[2226 rows x 12 columns]"
      ]
     },
     "execution_count": 102,
     "metadata": {},
     "output_type": "execute_result"
    }
   ],
   "source": [
    "x_indep"
   ]
  },
  {
   "cell_type": "code",
   "execution_count": 101,
   "id": "110e1d3b",
   "metadata": {},
   "outputs": [],
   "source": [
    "x_indep=df.drop(['Response'], axis=1)\n",
    "y_dep=df['Response']"
   ]
  },
  {
   "cell_type": "code",
   "execution_count": 126,
   "id": "56172f42",
   "metadata": {},
   "outputs": [],
   "source": [
    "x_indep['Marital_Status'] = LabelEncoder().fit_transform(x_indep['Marital_Status'])\n",
    "x_indep['Education'] = LabelEncoder().fit_transform(x_indep['Education'])"
   ]
  },
  {
   "cell_type": "code",
   "execution_count": 127,
   "id": "0c8f9c3e",
   "metadata": {},
   "outputs": [
    {
     "data": {
      "text/html": [
       "<div>\n",
       "<style scoped>\n",
       "    .dataframe tbody tr th:only-of-type {\n",
       "        vertical-align: middle;\n",
       "    }\n",
       "\n",
       "    .dataframe tbody tr th {\n",
       "        vertical-align: top;\n",
       "    }\n",
       "\n",
       "    .dataframe thead th {\n",
       "        text-align: right;\n",
       "    }\n",
       "</style>\n",
       "<table border=\"1\" class=\"dataframe\">\n",
       "  <thead>\n",
       "    <tr style=\"text-align: right;\">\n",
       "      <th></th>\n",
       "      <th>Year_Birth</th>\n",
       "      <th>Education</th>\n",
       "      <th>Marital_Status</th>\n",
       "      <th>Income</th>\n",
       "      <th>Recency</th>\n",
       "      <th>Spending</th>\n",
       "      <th>No_of_Visits_and_Purchase</th>\n",
       "      <th>Accepted_offers</th>\n",
       "      <th>home_members</th>\n",
       "      <th>Seniority</th>\n",
       "    </tr>\n",
       "  </thead>\n",
       "  <tbody>\n",
       "    <tr>\n",
       "      <th>0</th>\n",
       "      <td>1957</td>\n",
       "      <td>2</td>\n",
       "      <td>4</td>\n",
       "      <td>58138.0</td>\n",
       "      <td>58</td>\n",
       "      <td>1529</td>\n",
       "      <td>21</td>\n",
       "      <td>0</td>\n",
       "      <td>0</td>\n",
       "      <td>25.333333</td>\n",
       "    </tr>\n",
       "    <tr>\n",
       "      <th>1</th>\n",
       "      <td>1954</td>\n",
       "      <td>2</td>\n",
       "      <td>4</td>\n",
       "      <td>46344.0</td>\n",
       "      <td>38</td>\n",
       "      <td>21</td>\n",
       "      <td>4</td>\n",
       "      <td>0</td>\n",
       "      <td>2</td>\n",
       "      <td>7.000000</td>\n",
       "    </tr>\n",
       "    <tr>\n",
       "      <th>2</th>\n",
       "      <td>1965</td>\n",
       "      <td>2</td>\n",
       "      <td>5</td>\n",
       "      <td>71613.0</td>\n",
       "      <td>26</td>\n",
       "      <td>734</td>\n",
       "      <td>11</td>\n",
       "      <td>0</td>\n",
       "      <td>0</td>\n",
       "      <td>13.633333</td>\n",
       "    </tr>\n",
       "    <tr>\n",
       "      <th>3</th>\n",
       "      <td>1984</td>\n",
       "      <td>2</td>\n",
       "      <td>5</td>\n",
       "      <td>26646.0</td>\n",
       "      <td>26</td>\n",
       "      <td>48</td>\n",
       "      <td>4</td>\n",
       "      <td>0</td>\n",
       "      <td>1</td>\n",
       "      <td>7.866667</td>\n",
       "    </tr>\n",
       "    <tr>\n",
       "      <th>4</th>\n",
       "      <td>1981</td>\n",
       "      <td>4</td>\n",
       "      <td>3</td>\n",
       "      <td>58293.0</td>\n",
       "      <td>94</td>\n",
       "      <td>407</td>\n",
       "      <td>13</td>\n",
       "      <td>0</td>\n",
       "      <td>1</td>\n",
       "      <td>8.600000</td>\n",
       "    </tr>\n",
       "    <tr>\n",
       "      <th>...</th>\n",
       "      <td>...</td>\n",
       "      <td>...</td>\n",
       "      <td>...</td>\n",
       "      <td>...</td>\n",
       "      <td>...</td>\n",
       "      <td>...</td>\n",
       "      <td>...</td>\n",
       "      <td>...</td>\n",
       "      <td>...</td>\n",
       "      <td>...</td>\n",
       "    </tr>\n",
       "    <tr>\n",
       "      <th>2221</th>\n",
       "      <td>1967</td>\n",
       "      <td>2</td>\n",
       "      <td>3</td>\n",
       "      <td>61223.0</td>\n",
       "      <td>46</td>\n",
       "      <td>1094</td>\n",
       "      <td>14</td>\n",
       "      <td>0</td>\n",
       "      <td>1</td>\n",
       "      <td>15.933333</td>\n",
       "    </tr>\n",
       "    <tr>\n",
       "      <th>2222</th>\n",
       "      <td>1946</td>\n",
       "      <td>4</td>\n",
       "      <td>5</td>\n",
       "      <td>64014.0</td>\n",
       "      <td>56</td>\n",
       "      <td>436</td>\n",
       "      <td>17</td>\n",
       "      <td>1</td>\n",
       "      <td>3</td>\n",
       "      <td>3.866667</td>\n",
       "    </tr>\n",
       "    <tr>\n",
       "      <th>2223</th>\n",
       "      <td>1981</td>\n",
       "      <td>2</td>\n",
       "      <td>2</td>\n",
       "      <td>56981.0</td>\n",
       "      <td>91</td>\n",
       "      <td>1217</td>\n",
       "      <td>6</td>\n",
       "      <td>1</td>\n",
       "      <td>0</td>\n",
       "      <td>8.400000</td>\n",
       "    </tr>\n",
       "    <tr>\n",
       "      <th>2224</th>\n",
       "      <td>1956</td>\n",
       "      <td>3</td>\n",
       "      <td>5</td>\n",
       "      <td>69245.0</td>\n",
       "      <td>8</td>\n",
       "      <td>782</td>\n",
       "      <td>13</td>\n",
       "      <td>0</td>\n",
       "      <td>1</td>\n",
       "      <td>8.433333</td>\n",
       "    </tr>\n",
       "    <tr>\n",
       "      <th>2225</th>\n",
       "      <td>1954</td>\n",
       "      <td>4</td>\n",
       "      <td>3</td>\n",
       "      <td>52869.0</td>\n",
       "      <td>40</td>\n",
       "      <td>151</td>\n",
       "      <td>7</td>\n",
       "      <td>0</td>\n",
       "      <td>2</td>\n",
       "      <td>23.966667</td>\n",
       "    </tr>\n",
       "  </tbody>\n",
       "</table>\n",
       "<p>2226 rows × 10 columns</p>\n",
       "</div>"
      ],
      "text/plain": [
       "      Year_Birth  Education  Marital_Status   Income  Recency  Spending  \\\n",
       "0           1957          2               4  58138.0       58      1529   \n",
       "1           1954          2               4  46344.0       38        21   \n",
       "2           1965          2               5  71613.0       26       734   \n",
       "3           1984          2               5  26646.0       26        48   \n",
       "4           1981          4               3  58293.0       94       407   \n",
       "...          ...        ...             ...      ...      ...       ...   \n",
       "2221        1967          2               3  61223.0       46      1094   \n",
       "2222        1946          4               5  64014.0       56       436   \n",
       "2223        1981          2               2  56981.0       91      1217   \n",
       "2224        1956          3               5  69245.0        8       782   \n",
       "2225        1954          4               3  52869.0       40       151   \n",
       "\n",
       "      No_of_Visits_and_Purchase  Accepted_offers  home_members  Seniority  \n",
       "0                            21                0             0  25.333333  \n",
       "1                             4                0             2   7.000000  \n",
       "2                            11                0             0  13.633333  \n",
       "3                             4                0             1   7.866667  \n",
       "4                            13                0             1   8.600000  \n",
       "...                         ...              ...           ...        ...  \n",
       "2221                         14                0             1  15.933333  \n",
       "2222                         17                1             3   3.866667  \n",
       "2223                          6                1             0   8.400000  \n",
       "2224                         13                0             1   8.433333  \n",
       "2225                          7                0             2  23.966667  \n",
       "\n",
       "[2226 rows x 10 columns]"
      ]
     },
     "execution_count": 127,
     "metadata": {},
     "output_type": "execute_result"
    }
   ],
   "source": [
    "x_indep"
   ]
  },
  {
   "cell_type": "code",
   "execution_count": 128,
   "id": "0c848613",
   "metadata": {},
   "outputs": [],
   "source": [
    "from sklearn.model_selection import train_test_split\n",
    "x_train,x_test,y_train,y_test=train_test_split(x_indep,y_dep,\n",
    "    test_size=0.2,\n",
    "    random_state=0)"
   ]
  },
  {
   "cell_type": "code",
   "execution_count": 129,
   "id": "1f571f10",
   "metadata": {},
   "outputs": [],
   "source": [
    "from sklearn.feature_selection import chi2\n",
    "f_p_values=chi2(x_train,y_train)"
   ]
  },
  {
   "cell_type": "code",
   "execution_count": 130,
   "id": "e19a2b95",
   "metadata": {},
   "outputs": [
    {
     "data": {
      "text/plain": [
       "(array([1.31730978e-01, 7.63405404e+00, 2.05862394e-02, 2.91964501e+05,\n",
       "        1.16124544e+03, 5.66520531e+04, 1.95076345e+02, 4.56518153e+02,\n",
       "        2.74423447e+01, 2.54589919e+02]),\n",
       " array([7.16644009e-001, 5.72764170e-003, 8.85911851e-001, 0.00000000e+000,\n",
       "        1.61384490e-254, 0.00000000e+000, 2.47941548e-044, 2.75174038e-101,\n",
       "        1.61848271e-007, 2.59317399e-057]))"
      ]
     },
     "execution_count": 130,
     "metadata": {},
     "output_type": "execute_result"
    }
   ],
   "source": [
    "f_p_values"
   ]
  },
  {
   "cell_type": "code",
   "execution_count": 131,
   "id": "0ed91dbd",
   "metadata": {},
   "outputs": [
    {
     "data": {
      "text/plain": [
       "Year_Birth                    7.166440e-01\n",
       "Education                     5.727642e-03\n",
       "Marital_Status                8.859119e-01\n",
       "Income                        0.000000e+00\n",
       "Recency                      1.613845e-254\n",
       "Spending                      0.000000e+00\n",
       "No_of_Visits_and_Purchase     2.479415e-44\n",
       "Accepted_offers              2.751740e-101\n",
       "home_members                  1.618483e-07\n",
       "Seniority                     2.593174e-57\n",
       "dtype: float64"
      ]
     },
     "execution_count": 131,
     "metadata": {},
     "output_type": "execute_result"
    }
   ],
   "source": [
    "p_values=pd.Series(f_p_values[1])\n",
    "p_values.index=x_train.columns\n",
    "p_values\n"
   ]
  },
  {
   "cell_type": "code",
   "execution_count": 108,
   "id": "fe064209",
   "metadata": {},
   "outputs": [
    {
     "data": {
      "text/plain": [
       "home_members                  1.618483e-07\n",
       "Year_Birth                    7.166440e-01\n",
       "Spending                      0.000000e+00\n",
       "Seniority                     2.593174e-57\n",
       "Recency                      1.613845e-254\n",
       "No_of_Visits_and_Purchase     2.479415e-44\n",
       "Marital_Status                8.859119e-01\n",
       "Income                        0.000000e+00\n",
       "ID                           4.129419e-242\n",
       "Education                     5.727642e-03\n",
       "Complain                      7.810097e-01\n",
       "Accepted_offers              2.751740e-101\n",
       "dtype: float64"
      ]
     },
     "execution_count": 108,
     "metadata": {},
     "output_type": "execute_result"
    }
   ],
   "source": [
    "p_values.sort_index(ascending=False)"
   ]
  },
  {
   "cell_type": "code",
   "execution_count": 133,
   "id": "6970b41a",
   "metadata": {},
   "outputs": [],
   "source": [
    "#df = df.drop([\"ID\",'Complain'],axis=1)\n",
    "#x_indep = x_indep.drop([\"ID\",'Complain'],axis=1)\n",
    "#x_indep"
   ]
  },
  {
   "cell_type": "markdown",
   "id": "555e6e84",
   "metadata": {},
   "source": [
    "# SMOTE"
   ]
  },
  {
   "cell_type": "code",
   "execution_count": 110,
   "id": "5051704a",
   "metadata": {},
   "outputs": [],
   "source": [
    "#x_indep=df.drop(['Response'], axis=1)\n",
    "#y_dep=df['Response']"
   ]
  },
  {
   "cell_type": "code",
   "execution_count": 34,
   "id": "de56f049",
   "metadata": {},
   "outputs": [],
   "source": [
    "import imblearn"
   ]
  },
  {
   "cell_type": "code",
   "execution_count": 35,
   "id": "90b502c2",
   "metadata": {},
   "outputs": [],
   "source": [
    "from collections import Counter"
   ]
  },
  {
   "cell_type": "code",
   "execution_count": 36,
   "id": "0c424ba3",
   "metadata": {},
   "outputs": [
    {
     "data": {
      "text/plain": [
       "Counter({1: 330, 0: 1896})"
      ]
     },
     "execution_count": 36,
     "metadata": {},
     "output_type": "execute_result"
    }
   ],
   "source": [
    "counter = Counter(y_dep)\n",
    "counter"
   ]
  },
  {
   "cell_type": "code",
   "execution_count": 37,
   "id": "9375e9cc",
   "metadata": {},
   "outputs": [],
   "source": [
    "from imblearn.over_sampling import SMOTE\n",
    "bal=SMOTE()   "
   ]
  },
  {
   "cell_type": "code",
   "execution_count": 134,
   "id": "58ad3334",
   "metadata": {},
   "outputs": [],
   "source": [
    "x_indep,y_dep= bal.fit_resample(x_indep,y_dep)"
   ]
  },
  {
   "cell_type": "code",
   "execution_count": 135,
   "id": "ba345e95",
   "metadata": {},
   "outputs": [
    {
     "data": {
      "text/plain": [
       "0    1896\n",
       "1    1896\n",
       "Name: Response, dtype: int64"
      ]
     },
     "execution_count": 135,
     "metadata": {},
     "output_type": "execute_result"
    }
   ],
   "source": [
    "y_dep.value_counts()"
   ]
  },
  {
   "cell_type": "markdown",
   "id": "874241a1",
   "metadata": {},
   "source": [
    "# Logistic Regression"
   ]
  },
  {
   "cell_type": "code",
   "execution_count": 136,
   "id": "8db41edf",
   "metadata": {},
   "outputs": [],
   "source": [
    "from sklearn.model_selection import train_test_split"
   ]
  },
  {
   "cell_type": "code",
   "execution_count": 137,
   "id": "c75883b2",
   "metadata": {},
   "outputs": [],
   "source": [
    "x_train,x_test,y_train,y_test = train_test_split(x_indep,y_dep, test_size=0.2)"
   ]
  },
  {
   "cell_type": "code",
   "execution_count": 139,
   "id": "d3d2d90e",
   "metadata": {},
   "outputs": [],
   "source": [
    "from sklearn.linear_model import LogisticRegression"
   ]
  },
  {
   "cell_type": "code",
   "execution_count": 140,
   "id": "28eacb28",
   "metadata": {},
   "outputs": [],
   "source": [
    "model=LogisticRegression()\n",
    "modelfit = model.fit(x_train,y_train)"
   ]
  },
  {
   "cell_type": "code",
   "execution_count": 141,
   "id": "69757bf8",
   "metadata": {},
   "outputs": [],
   "source": [
    "from sklearn.metrics import classification_report,accuracy_score,confusion_matrix"
   ]
  },
  {
   "cell_type": "code",
   "execution_count": 142,
   "id": "cb380035",
   "metadata": {},
   "outputs": [
    {
     "data": {
      "text/plain": [
       "(72.20026350461133, '%')"
      ]
     },
     "execution_count": 142,
     "metadata": {},
     "output_type": "execute_result"
    }
   ],
   "source": [
    "Predict_model0=modelfit.predict(x_test)\n",
    "confusion_matrix(y_test,Predict_model0)\n",
    "lr_acc=(accuracy_score(y_test,Predict_model0)*100,\"%\")\n",
    "lr_acc"
   ]
  },
  {
   "cell_type": "code",
   "execution_count": 143,
   "id": "0ad45fb8",
   "metadata": {},
   "outputs": [
    {
     "data": {
      "text/plain": [
       "array([[259, 110],\n",
       "       [101, 289]], dtype=int64)"
      ]
     },
     "execution_count": 143,
     "metadata": {},
     "output_type": "execute_result"
    }
   ],
   "source": [
    "confusion_matrix(y_test,Predict_model0)"
   ]
  },
  {
   "cell_type": "code",
   "execution_count": 144,
   "id": "71196b4a",
   "metadata": {},
   "outputs": [
    {
     "data": {
      "text/plain": [
       "(72.20026350461133, '%')"
      ]
     },
     "execution_count": 144,
     "metadata": {},
     "output_type": "execute_result"
    }
   ],
   "source": [
    "lr_acc=(accuracy_score(y_test,Predict_model0)*100,\"%\")\n",
    "lr_acc"
   ]
  },
  {
   "cell_type": "code",
   "execution_count": 145,
   "id": "ad72584f",
   "metadata": {},
   "outputs": [],
   "source": [
    "import sklearn\n",
    "from sklearn.metrics import classification_report "
   ]
  },
  {
   "cell_type": "code",
   "execution_count": 49,
   "id": "4b823dac",
   "metadata": {},
   "outputs": [
    {
     "name": "stdout",
     "output_type": "stream",
     "text": [
      "              precision    recall  f1-score   support\n",
      "\n",
      "           0       0.72      0.70      0.71       377\n",
      "           1       0.71      0.73      0.72       382\n",
      "\n",
      "    accuracy                           0.72       759\n",
      "   macro avg       0.72      0.72      0.72       759\n",
      "weighted avg       0.72      0.72      0.72       759\n",
      "\n"
     ]
    }
   ],
   "source": [
    "classification_reports=print(classification_report(y_test,Predict_model0))"
   ]
  },
  {
   "cell_type": "code",
   "execution_count": 50,
   "id": "58157db9",
   "metadata": {},
   "outputs": [],
   "source": [
    "from sklearn.linear_model import LogisticRegression\n",
    "from sklearn.metrics import accuracy_score\n",
    "from sklearn.metrics import precision_score, recall_score\n",
    "from sklearn.metrics import f1_score, roc_auc_score, roc_curve"
   ]
  },
  {
   "cell_type": "code",
   "execution_count": 41,
   "id": "c5e67720",
   "metadata": {},
   "outputs": [
    {
     "name": "stdout",
     "output_type": "stream",
     "text": [
      "(3033, 10) (3033,)\n"
     ]
    }
   ],
   "source": [
    "\n",
    "print (x_train.shape, y_train.shape)"
   ]
  },
  {
   "cell_type": "markdown",
   "id": "645fcfc8",
   "metadata": {},
   "source": [
    "# Gradient Boosting Classifier"
   ]
  },
  {
   "cell_type": "code",
   "execution_count": 42,
   "id": "06a53396",
   "metadata": {},
   "outputs": [],
   "source": [
    "from sklearn import preprocessing"
   ]
  },
  {
   "cell_type": "code",
   "execution_count": 43,
   "id": "31152359",
   "metadata": {},
   "outputs": [],
   "source": [
    "from sklearn.ensemble import GradientBoostingClassifier"
   ]
  },
  {
   "cell_type": "code",
   "execution_count": 44,
   "id": "2ada4889",
   "metadata": {},
   "outputs": [],
   "source": [
    "from sklearn.model_selection import GridSearchCV, train_test_split"
   ]
  },
  {
   "cell_type": "code",
   "execution_count": 45,
   "id": "ad741d72",
   "metadata": {},
   "outputs": [],
   "source": [
    "model_GB = GradientBoostingClassifier()"
   ]
  },
  {
   "cell_type": "code",
   "execution_count": 46,
   "id": "050eb10a",
   "metadata": {},
   "outputs": [],
   "source": [
    "# gbm = GridSearchCV(GradientBoostingClassifier(),\n",
    "#                      param_grid = {'max_depth': range(1, 15),\n",
    "#                                   'min_samples_split': range(1, 11, 3)},\n",
    "#                      cv=5,\n",
    "#                      n_jobs=-1,\n",
    "#                      scoring='accuracy', \n",
    "# #                    refit=True,\n",
    "#                   )\n",
    "                      \n",
    "# gbm.fit(x_train, y_train)\n",
    "\n",
    "# print(gbm.best_params_)\n",
    "# print(gbm.best_score_)"
   ]
  },
  {
   "cell_type": "code",
   "execution_count": 47,
   "id": "6c05a363",
   "metadata": {},
   "outputs": [],
   "source": [
    "# Initiate the best model\n",
    "model_GB = GradientBoostingClassifier(max_depth=10, min_samples_split=10)"
   ]
  },
  {
   "cell_type": "code",
   "execution_count": 48,
   "id": "3de221b6",
   "metadata": {},
   "outputs": [],
   "source": [
    "# Fit the best model\n",
    "model_GB_fit=model_GB.fit(x_train, y_train)"
   ]
  },
  {
   "cell_type": "code",
   "execution_count": 49,
   "id": "d04ba7be",
   "metadata": {},
   "outputs": [],
   "source": [
    "Predict_model1 = model_GB_fit.predict(x_test)"
   ]
  },
  {
   "cell_type": "code",
   "execution_count": 50,
   "id": "dedfd83e",
   "metadata": {},
   "outputs": [
    {
     "data": {
      "text/plain": [
       "array([[327,  51],\n",
       "       [ 35, 346]])"
      ]
     },
     "execution_count": 50,
     "metadata": {},
     "output_type": "execute_result"
    }
   ],
   "source": [
    "confusion_matrix(y_test,Predict_model1)"
   ]
  },
  {
   "cell_type": "code",
   "execution_count": 51,
   "id": "679b04ea",
   "metadata": {},
   "outputs": [
    {
     "data": {
      "text/plain": [
       "(88.66930171277997, '%')"
      ]
     },
     "execution_count": 51,
     "metadata": {},
     "output_type": "execute_result"
    }
   ],
   "source": [
    "gbm_acc=(accuracy_score(y_test,Predict_model1)*100,\"%\")\n",
    "gbm_acc"
   ]
  },
  {
   "cell_type": "code",
   "execution_count": 52,
   "id": "0e97b25a",
   "metadata": {},
   "outputs": [
    {
     "name": "stdout",
     "output_type": "stream",
     "text": [
      "              precision    recall  f1-score   support\n",
      "\n",
      "           0       0.90      0.87      0.88       378\n",
      "           1       0.87      0.91      0.89       381\n",
      "\n",
      "    accuracy                           0.89       759\n",
      "   macro avg       0.89      0.89      0.89       759\n",
      "weighted avg       0.89      0.89      0.89       759\n",
      "\n"
     ]
    }
   ],
   "source": [
    "classification_reports=print(classification_report(y_test,Predict_model1))"
   ]
  },
  {
   "cell_type": "markdown",
   "id": "8d029527",
   "metadata": {},
   "source": [
    "# eXtreme Gradient Boosting Classifier "
   ]
  },
  {
   "cell_type": "code",
   "execution_count": 53,
   "id": "20fb6e0f",
   "metadata": {},
   "outputs": [],
   "source": [
    "from xgboost import XGBClassifier"
   ]
  },
  {
   "cell_type": "code",
   "execution_count": 54,
   "id": "f7bdeb31",
   "metadata": {},
   "outputs": [],
   "source": [
    "xgb = XGBClassifier()"
   ]
  },
  {
   "cell_type": "code",
   "execution_count": 55,
   "id": "b62fa92c",
   "metadata": {},
   "outputs": [],
   "source": [
    "# best_xgb = GridSearchCV(xgb,\n",
    "#                      param_grid = {'max_depth': range(1, 15),\n",
    "#                                   'min_samples_split': range(1, 15)},\n",
    "#                      cv=5,\n",
    "#                      n_jobs=-1,\n",
    "#                      scoring='accuracy',\n",
    "# #                         refit=True\n",
    "#                        )\n",
    "                      \n",
    "# best_xgb.fit(x_train, y_train)\n",
    "\n",
    "# print(best_xgb.best_params_)\n",
    "# print(best_xgb.best_score_)"
   ]
  },
  {
   "cell_type": "code",
   "execution_count": 56,
   "id": "0106f13b",
   "metadata": {},
   "outputs": [],
   "source": [
    "# Initiate the best model\n",
    "best_xgb = XGBClassifier(max_depth=14, min_samples_split=1)"
   ]
  },
  {
   "cell_type": "code",
   "execution_count": 57,
   "id": "f77849ac",
   "metadata": {},
   "outputs": [],
   "source": [
    "# Fit the best model\n",
    "best_xgb_fit=best_xgb.fit(x_train, y_train)"
   ]
  },
  {
   "cell_type": "code",
   "execution_count": 58,
   "id": "cb5d6276",
   "metadata": {},
   "outputs": [],
   "source": [
    "Predict_model2 = best_xgb_fit.predict(x_test)"
   ]
  },
  {
   "cell_type": "code",
   "execution_count": 59,
   "id": "1ad50eb0",
   "metadata": {},
   "outputs": [
    {
     "data": {
      "text/plain": [
       "array([[319,  59],\n",
       "       [ 35, 346]])"
      ]
     },
     "execution_count": 59,
     "metadata": {},
     "output_type": "execute_result"
    }
   ],
   "source": [
    "confusion_matrix(y_test,Predict_model2)"
   ]
  },
  {
   "cell_type": "code",
   "execution_count": 60,
   "id": "84e576d7",
   "metadata": {},
   "outputs": [
    {
     "data": {
      "text/plain": [
       "(87.61528326745717, '%')"
      ]
     },
     "execution_count": 60,
     "metadata": {},
     "output_type": "execute_result"
    }
   ],
   "source": [
    "xgb_acc=(accuracy_score(y_test,Predict_model2)*100,\"%\")\n",
    "xgb_acc"
   ]
  },
  {
   "cell_type": "code",
   "execution_count": 61,
   "id": "fef4b333",
   "metadata": {},
   "outputs": [
    {
     "name": "stdout",
     "output_type": "stream",
     "text": [
      "              precision    recall  f1-score   support\n",
      "\n",
      "           0       0.90      0.84      0.87       378\n",
      "           1       0.85      0.91      0.88       381\n",
      "\n",
      "    accuracy                           0.88       759\n",
      "   macro avg       0.88      0.88      0.88       759\n",
      "weighted avg       0.88      0.88      0.88       759\n",
      "\n"
     ]
    }
   ],
   "source": [
    "classification_reports=print(classification_report(y_test,Predict_model2))"
   ]
  },
  {
   "cell_type": "markdown",
   "id": "61f6b93c",
   "metadata": {},
   "source": [
    "# Decision Tree Classifier"
   ]
  },
  {
   "cell_type": "code",
   "execution_count": 62,
   "id": "c278d1a5",
   "metadata": {},
   "outputs": [],
   "source": [
    "from sklearn.tree import DecisionTreeClassifier"
   ]
  },
  {
   "cell_type": "code",
   "execution_count": 63,
   "id": "28775e73",
   "metadata": {},
   "outputs": [],
   "source": [
    "# Initiate the model\n",
    "dt = DecisionTreeClassifier()"
   ]
  },
  {
   "cell_type": "code",
   "execution_count": 64,
   "id": "899471b9",
   "metadata": {},
   "outputs": [],
   "source": [
    "# # Grid search\n",
    "# dt_gs = GridSearchCV(dt,param_grid = {'max_depth': range(1, 11),'min_samples_split': range(10, 60, 10)},\n",
    "#                      cv=5,n_jobs=-1,\n",
    "#                      scoring='accuracy',\n",
    "# #                      refit=True\n",
    "#                     )"
   ]
  },
  {
   "cell_type": "code",
   "execution_count": 65,
   "id": "7dcc359b",
   "metadata": {},
   "outputs": [],
   "source": [
    "# dt_gs.fit(x_train, y_train)"
   ]
  },
  {
   "cell_type": "code",
   "execution_count": 66,
   "id": "be55a1a7",
   "metadata": {},
   "outputs": [],
   "source": [
    "# print(dt_gs.best_params_)\n",
    "# print(dt_gs.best_score_)"
   ]
  },
  {
   "cell_type": "code",
   "execution_count": 67,
   "id": "de1c6def",
   "metadata": {},
   "outputs": [],
   "source": [
    "# Initiate the best model\n",
    "dt_best_model = DecisionTreeClassifier(max_depth=8, min_samples_split=40)"
   ]
  },
  {
   "cell_type": "code",
   "execution_count": 68,
   "id": "e794891f",
   "metadata": {},
   "outputs": [],
   "source": [
    "# Fit the best model\n",
    "Decision_model_fit=dt_best_model.fit(x_train, y_train)"
   ]
  },
  {
   "cell_type": "code",
   "execution_count": 69,
   "id": "7f935097",
   "metadata": {},
   "outputs": [],
   "source": [
    "Predict_model4 = Decision_model_fit.predict(x_test)"
   ]
  },
  {
   "cell_type": "code",
   "execution_count": 70,
   "id": "77aa42fc",
   "metadata": {},
   "outputs": [
    {
     "data": {
      "text/plain": [
       "array([[300,  78],\n",
       "       [ 71, 310]])"
      ]
     },
     "execution_count": 70,
     "metadata": {},
     "output_type": "execute_result"
    }
   ],
   "source": [
    "confusion_matrix(y_test,Predict_model4)"
   ]
  },
  {
   "cell_type": "code",
   "execution_count": 71,
   "id": "ff1a363f",
   "metadata": {},
   "outputs": [
    {
     "data": {
      "text/plain": [
       "(80.36890645586297, '%')"
      ]
     },
     "execution_count": 71,
     "metadata": {},
     "output_type": "execute_result"
    }
   ],
   "source": [
    "dt_acc=(accuracy_score(y_test,Predict_model4)*100,\"%\")\n",
    "dt_acc"
   ]
  },
  {
   "cell_type": "code",
   "execution_count": 72,
   "id": "965cbd7a",
   "metadata": {},
   "outputs": [
    {
     "name": "stdout",
     "output_type": "stream",
     "text": [
      "              precision    recall  f1-score   support\n",
      "\n",
      "           0       0.81      0.79      0.80       378\n",
      "           1       0.80      0.81      0.81       381\n",
      "\n",
      "    accuracy                           0.80       759\n",
      "   macro avg       0.80      0.80      0.80       759\n",
      "weighted avg       0.80      0.80      0.80       759\n",
      "\n"
     ]
    }
   ],
   "source": [
    "classification_reports=print(classification_report(y_test,Predict_model4))"
   ]
  },
  {
   "cell_type": "markdown",
   "id": "2c16c7ca",
   "metadata": {},
   "source": [
    "# Random Forest Classifier"
   ]
  },
  {
   "cell_type": "code",
   "execution_count": 73,
   "id": "a6c1788a",
   "metadata": {},
   "outputs": [],
   "source": [
    "from sklearn.ensemble import RandomForestClassifier"
   ]
  },
  {
   "cell_type": "code",
   "execution_count": 74,
   "id": "fe92601e",
   "metadata": {},
   "outputs": [],
   "source": [
    "Random_model = RandomForestClassifier()"
   ]
  },
  {
   "cell_type": "code",
   "execution_count": 75,
   "id": "687e22a1",
   "metadata": {},
   "outputs": [],
   "source": [
    "# # Grid search\n",
    "# rf_gs = GridSearchCV(Random_model,param_grid = {'max_depth': range(1, 15),'min_samples_split': range(10, 60, 1),\n",
    "#                       \"max_features\" : [\"auto\", \"log2\", \"sqrt\"]},\n",
    "#                      cv=5,n_jobs=-1,\n",
    "#                      scoring='accuracy',\n",
    "# #                      refit=True\n",
    "#                     )"
   ]
  },
  {
   "cell_type": "code",
   "execution_count": 76,
   "id": "65d11304",
   "metadata": {},
   "outputs": [],
   "source": [
    "# rf_gs.fit(x_train, y_train)"
   ]
  },
  {
   "cell_type": "code",
   "execution_count": 77,
   "id": "728c11ca",
   "metadata": {},
   "outputs": [],
   "source": [
    "# print(rf_gs.best_params_)\n",
    "# print(rf_gs.best_score_)"
   ]
  },
  {
   "cell_type": "code",
   "execution_count": 78,
   "id": "91d2ca0d",
   "metadata": {},
   "outputs": [],
   "source": [
    "# Initiate the best model\n",
    "rf_best_model = RandomForestClassifier(max_depth= 12, max_features= 'sqrt', min_samples_split= 25)"
   ]
  },
  {
   "cell_type": "code",
   "execution_count": 79,
   "id": "01a522af",
   "metadata": {},
   "outputs": [],
   "source": [
    "# Fit the best model\n",
    "Random_model=rf_best_model.fit(x_train, y_train)"
   ]
  },
  {
   "cell_type": "code",
   "execution_count": 80,
   "id": "605cbbb9",
   "metadata": {},
   "outputs": [],
   "source": [
    "Predict_model5 = Random_model.predict(x_test)"
   ]
  },
  {
   "cell_type": "code",
   "execution_count": 81,
   "id": "ae21509c",
   "metadata": {},
   "outputs": [
    {
     "data": {
      "text/plain": [
       "array([[309,  69],\n",
       "       [ 52, 329]])"
      ]
     },
     "execution_count": 81,
     "metadata": {},
     "output_type": "execute_result"
    }
   ],
   "source": [
    "confusion_matrix(y_test,Predict_model5)"
   ]
  },
  {
   "cell_type": "code",
   "execution_count": 82,
   "id": "9935dacb",
   "metadata": {},
   "outputs": [
    {
     "data": {
      "text/plain": [
       "(84.05797101449275, '%')"
      ]
     },
     "execution_count": 82,
     "metadata": {},
     "output_type": "execute_result"
    }
   ],
   "source": [
    "rf_acc=(accuracy_score(y_test,Predict_model5)*100,\"%\")\n",
    "rf_acc"
   ]
  },
  {
   "cell_type": "code",
   "execution_count": 83,
   "id": "6e52618f",
   "metadata": {},
   "outputs": [
    {
     "name": "stdout",
     "output_type": "stream",
     "text": [
      "              precision    recall  f1-score   support\n",
      "\n",
      "           0       0.86      0.82      0.84       378\n",
      "           1       0.83      0.86      0.84       381\n",
      "\n",
      "    accuracy                           0.84       759\n",
      "   macro avg       0.84      0.84      0.84       759\n",
      "weighted avg       0.84      0.84      0.84       759\n",
      "\n"
     ]
    }
   ],
   "source": [
    "classification_reports=print(classification_report(y_test,Predict_model5))"
   ]
  },
  {
   "cell_type": "markdown",
   "id": "2741442f",
   "metadata": {},
   "source": [
    "-----"
   ]
  },
  {
   "cell_type": "markdown",
   "id": "ca9d6cbc",
   "metadata": {},
   "source": [
    "# GRADIO"
   ]
  },
  {
   "cell_type": "code",
   "execution_count": 115,
   "id": "b85dc507",
   "metadata": {},
   "outputs": [
    {
     "data": {
      "text/html": [
       "<div>\n",
       "<style scoped>\n",
       "    .dataframe tbody tr th:only-of-type {\n",
       "        vertical-align: middle;\n",
       "    }\n",
       "\n",
       "    .dataframe tbody tr th {\n",
       "        vertical-align: top;\n",
       "    }\n",
       "\n",
       "    .dataframe thead th {\n",
       "        text-align: right;\n",
       "    }\n",
       "</style>\n",
       "<table border=\"1\" class=\"dataframe\">\n",
       "  <thead>\n",
       "    <tr style=\"text-align: right;\">\n",
       "      <th></th>\n",
       "      <th>Year_Birth</th>\n",
       "      <th>Education</th>\n",
       "      <th>Marital_Status</th>\n",
       "      <th>Income</th>\n",
       "      <th>Recency</th>\n",
       "      <th>Response</th>\n",
       "      <th>Spending</th>\n",
       "      <th>No_of_Visits_and_Purchase</th>\n",
       "      <th>Accepted_offers</th>\n",
       "      <th>home_members</th>\n",
       "      <th>Seniority</th>\n",
       "    </tr>\n",
       "  </thead>\n",
       "  <tbody>\n",
       "    <tr>\n",
       "      <th>0</th>\n",
       "      <td>1957</td>\n",
       "      <td>Graduation</td>\n",
       "      <td>Single</td>\n",
       "      <td>58138.0</td>\n",
       "      <td>58</td>\n",
       "      <td>1</td>\n",
       "      <td>1529</td>\n",
       "      <td>21</td>\n",
       "      <td>0</td>\n",
       "      <td>0</td>\n",
       "      <td>25.333333</td>\n",
       "    </tr>\n",
       "    <tr>\n",
       "      <th>1</th>\n",
       "      <td>1954</td>\n",
       "      <td>Graduation</td>\n",
       "      <td>Single</td>\n",
       "      <td>46344.0</td>\n",
       "      <td>38</td>\n",
       "      <td>0</td>\n",
       "      <td>21</td>\n",
       "      <td>4</td>\n",
       "      <td>0</td>\n",
       "      <td>2</td>\n",
       "      <td>7.000000</td>\n",
       "    </tr>\n",
       "    <tr>\n",
       "      <th>2</th>\n",
       "      <td>1965</td>\n",
       "      <td>Graduation</td>\n",
       "      <td>Together</td>\n",
       "      <td>71613.0</td>\n",
       "      <td>26</td>\n",
       "      <td>0</td>\n",
       "      <td>734</td>\n",
       "      <td>11</td>\n",
       "      <td>0</td>\n",
       "      <td>0</td>\n",
       "      <td>13.633333</td>\n",
       "    </tr>\n",
       "    <tr>\n",
       "      <th>3</th>\n",
       "      <td>1984</td>\n",
       "      <td>Graduation</td>\n",
       "      <td>Together</td>\n",
       "      <td>26646.0</td>\n",
       "      <td>26</td>\n",
       "      <td>0</td>\n",
       "      <td>48</td>\n",
       "      <td>4</td>\n",
       "      <td>0</td>\n",
       "      <td>1</td>\n",
       "      <td>7.866667</td>\n",
       "    </tr>\n",
       "    <tr>\n",
       "      <th>4</th>\n",
       "      <td>1981</td>\n",
       "      <td>PhD</td>\n",
       "      <td>Married</td>\n",
       "      <td>58293.0</td>\n",
       "      <td>94</td>\n",
       "      <td>0</td>\n",
       "      <td>407</td>\n",
       "      <td>13</td>\n",
       "      <td>0</td>\n",
       "      <td>1</td>\n",
       "      <td>8.600000</td>\n",
       "    </tr>\n",
       "    <tr>\n",
       "      <th>...</th>\n",
       "      <td>...</td>\n",
       "      <td>...</td>\n",
       "      <td>...</td>\n",
       "      <td>...</td>\n",
       "      <td>...</td>\n",
       "      <td>...</td>\n",
       "      <td>...</td>\n",
       "      <td>...</td>\n",
       "      <td>...</td>\n",
       "      <td>...</td>\n",
       "      <td>...</td>\n",
       "    </tr>\n",
       "    <tr>\n",
       "      <th>2221</th>\n",
       "      <td>1967</td>\n",
       "      <td>Graduation</td>\n",
       "      <td>Married</td>\n",
       "      <td>61223.0</td>\n",
       "      <td>46</td>\n",
       "      <td>0</td>\n",
       "      <td>1094</td>\n",
       "      <td>14</td>\n",
       "      <td>0</td>\n",
       "      <td>1</td>\n",
       "      <td>15.933333</td>\n",
       "    </tr>\n",
       "    <tr>\n",
       "      <th>2222</th>\n",
       "      <td>1946</td>\n",
       "      <td>PhD</td>\n",
       "      <td>Together</td>\n",
       "      <td>64014.0</td>\n",
       "      <td>56</td>\n",
       "      <td>0</td>\n",
       "      <td>436</td>\n",
       "      <td>17</td>\n",
       "      <td>1</td>\n",
       "      <td>3</td>\n",
       "      <td>3.866667</td>\n",
       "    </tr>\n",
       "    <tr>\n",
       "      <th>2223</th>\n",
       "      <td>1981</td>\n",
       "      <td>Graduation</td>\n",
       "      <td>Divorced</td>\n",
       "      <td>56981.0</td>\n",
       "      <td>91</td>\n",
       "      <td>0</td>\n",
       "      <td>1217</td>\n",
       "      <td>6</td>\n",
       "      <td>1</td>\n",
       "      <td>0</td>\n",
       "      <td>8.400000</td>\n",
       "    </tr>\n",
       "    <tr>\n",
       "      <th>2224</th>\n",
       "      <td>1956</td>\n",
       "      <td>Master</td>\n",
       "      <td>Together</td>\n",
       "      <td>69245.0</td>\n",
       "      <td>8</td>\n",
       "      <td>0</td>\n",
       "      <td>782</td>\n",
       "      <td>13</td>\n",
       "      <td>0</td>\n",
       "      <td>1</td>\n",
       "      <td>8.433333</td>\n",
       "    </tr>\n",
       "    <tr>\n",
       "      <th>2225</th>\n",
       "      <td>1954</td>\n",
       "      <td>PhD</td>\n",
       "      <td>Married</td>\n",
       "      <td>52869.0</td>\n",
       "      <td>40</td>\n",
       "      <td>1</td>\n",
       "      <td>151</td>\n",
       "      <td>7</td>\n",
       "      <td>0</td>\n",
       "      <td>2</td>\n",
       "      <td>23.966667</td>\n",
       "    </tr>\n",
       "  </tbody>\n",
       "</table>\n",
       "<p>2226 rows × 11 columns</p>\n",
       "</div>"
      ],
      "text/plain": [
       "      Year_Birth   Education Marital_Status   Income  Recency  Response  \\\n",
       "0           1957  Graduation         Single  58138.0       58         1   \n",
       "1           1954  Graduation         Single  46344.0       38         0   \n",
       "2           1965  Graduation       Together  71613.0       26         0   \n",
       "3           1984  Graduation       Together  26646.0       26         0   \n",
       "4           1981         PhD        Married  58293.0       94         0   \n",
       "...          ...         ...            ...      ...      ...       ...   \n",
       "2221        1967  Graduation        Married  61223.0       46         0   \n",
       "2222        1946         PhD       Together  64014.0       56         0   \n",
       "2223        1981  Graduation       Divorced  56981.0       91         0   \n",
       "2224        1956      Master       Together  69245.0        8         0   \n",
       "2225        1954         PhD        Married  52869.0       40         1   \n",
       "\n",
       "      Spending  No_of_Visits_and_Purchase  Accepted_offers  home_members  \\\n",
       "0         1529                         21                0             0   \n",
       "1           21                          4                0             2   \n",
       "2          734                         11                0             0   \n",
       "3           48                          4                0             1   \n",
       "4          407                         13                0             1   \n",
       "...        ...                        ...              ...           ...   \n",
       "2221      1094                         14                0             1   \n",
       "2222       436                         17                1             3   \n",
       "2223      1217                          6                1             0   \n",
       "2224       782                         13                0             1   \n",
       "2225       151                          7                0             2   \n",
       "\n",
       "      Seniority  \n",
       "0     25.333333  \n",
       "1      7.000000  \n",
       "2     13.633333  \n",
       "3      7.866667  \n",
       "4      8.600000  \n",
       "...         ...  \n",
       "2221  15.933333  \n",
       "2222   3.866667  \n",
       "2223   8.400000  \n",
       "2224   8.433333  \n",
       "2225  23.966667  \n",
       "\n",
       "[2226 rows x 11 columns]"
      ]
     },
     "execution_count": 115,
     "metadata": {},
     "output_type": "execute_result"
    }
   ],
   "source": [
    "df"
   ]
  },
  {
   "cell_type": "code",
   "execution_count": 52,
   "id": "b0ea5853",
   "metadata": {},
   "outputs": [
    {
     "data": {
      "text/html": [
       "<div>\n",
       "<style scoped>\n",
       "    .dataframe tbody tr th:only-of-type {\n",
       "        vertical-align: middle;\n",
       "    }\n",
       "\n",
       "    .dataframe tbody tr th {\n",
       "        vertical-align: top;\n",
       "    }\n",
       "\n",
       "    .dataframe thead th {\n",
       "        text-align: right;\n",
       "    }\n",
       "</style>\n",
       "<table border=\"1\" class=\"dataframe\">\n",
       "  <thead>\n",
       "    <tr style=\"text-align: right;\">\n",
       "      <th></th>\n",
       "      <th>ID</th>\n",
       "      <th>Year_Birth</th>\n",
       "      <th>Education</th>\n",
       "      <th>Marital_Status</th>\n",
       "      <th>Income</th>\n",
       "      <th>Kidhome</th>\n",
       "      <th>Teenhome</th>\n",
       "      <th>Dt_Customer</th>\n",
       "      <th>Recency</th>\n",
       "      <th>MntWines</th>\n",
       "      <th>...</th>\n",
       "      <th>NumWebVisitsMonth</th>\n",
       "      <th>AcceptedCmp1</th>\n",
       "      <th>AcceptedCmp2</th>\n",
       "      <th>AcceptedCmp3</th>\n",
       "      <th>AcceptedCmp4</th>\n",
       "      <th>AcceptedCmp5</th>\n",
       "      <th>Complain</th>\n",
       "      <th>Z_CostContact</th>\n",
       "      <th>Z_Revenue</th>\n",
       "      <th>Response</th>\n",
       "    </tr>\n",
       "  </thead>\n",
       "  <tbody>\n",
       "    <tr>\n",
       "      <th>0</th>\n",
       "      <td>5524</td>\n",
       "      <td>1957</td>\n",
       "      <td>Graduation</td>\n",
       "      <td>Single</td>\n",
       "      <td>58138.0</td>\n",
       "      <td>0</td>\n",
       "      <td>0</td>\n",
       "      <td>2012-09-04</td>\n",
       "      <td>58</td>\n",
       "      <td>635</td>\n",
       "      <td>...</td>\n",
       "      <td>7</td>\n",
       "      <td>0</td>\n",
       "      <td>0</td>\n",
       "      <td>0</td>\n",
       "      <td>0</td>\n",
       "      <td>0</td>\n",
       "      <td>0</td>\n",
       "      <td>3</td>\n",
       "      <td>11</td>\n",
       "      <td>1</td>\n",
       "    </tr>\n",
       "    <tr>\n",
       "      <th>1</th>\n",
       "      <td>2174</td>\n",
       "      <td>1954</td>\n",
       "      <td>Graduation</td>\n",
       "      <td>Single</td>\n",
       "      <td>46344.0</td>\n",
       "      <td>1</td>\n",
       "      <td>1</td>\n",
       "      <td>2014-03-08</td>\n",
       "      <td>38</td>\n",
       "      <td>11</td>\n",
       "      <td>...</td>\n",
       "      <td>5</td>\n",
       "      <td>0</td>\n",
       "      <td>0</td>\n",
       "      <td>0</td>\n",
       "      <td>0</td>\n",
       "      <td>0</td>\n",
       "      <td>0</td>\n",
       "      <td>3</td>\n",
       "      <td>11</td>\n",
       "      <td>0</td>\n",
       "    </tr>\n",
       "    <tr>\n",
       "      <th>2</th>\n",
       "      <td>4141</td>\n",
       "      <td>1965</td>\n",
       "      <td>Graduation</td>\n",
       "      <td>Together</td>\n",
       "      <td>71613.0</td>\n",
       "      <td>0</td>\n",
       "      <td>0</td>\n",
       "      <td>2013-08-21</td>\n",
       "      <td>26</td>\n",
       "      <td>426</td>\n",
       "      <td>...</td>\n",
       "      <td>4</td>\n",
       "      <td>0</td>\n",
       "      <td>0</td>\n",
       "      <td>0</td>\n",
       "      <td>0</td>\n",
       "      <td>0</td>\n",
       "      <td>0</td>\n",
       "      <td>3</td>\n",
       "      <td>11</td>\n",
       "      <td>0</td>\n",
       "    </tr>\n",
       "    <tr>\n",
       "      <th>3</th>\n",
       "      <td>6182</td>\n",
       "      <td>1984</td>\n",
       "      <td>Graduation</td>\n",
       "      <td>Together</td>\n",
       "      <td>26646.0</td>\n",
       "      <td>1</td>\n",
       "      <td>0</td>\n",
       "      <td>2014-02-10</td>\n",
       "      <td>26</td>\n",
       "      <td>11</td>\n",
       "      <td>...</td>\n",
       "      <td>6</td>\n",
       "      <td>0</td>\n",
       "      <td>0</td>\n",
       "      <td>0</td>\n",
       "      <td>0</td>\n",
       "      <td>0</td>\n",
       "      <td>0</td>\n",
       "      <td>3</td>\n",
       "      <td>11</td>\n",
       "      <td>0</td>\n",
       "    </tr>\n",
       "    <tr>\n",
       "      <th>4</th>\n",
       "      <td>5324</td>\n",
       "      <td>1981</td>\n",
       "      <td>PhD</td>\n",
       "      <td>Married</td>\n",
       "      <td>58293.0</td>\n",
       "      <td>1</td>\n",
       "      <td>0</td>\n",
       "      <td>2014-01-19</td>\n",
       "      <td>94</td>\n",
       "      <td>173</td>\n",
       "      <td>...</td>\n",
       "      <td>5</td>\n",
       "      <td>0</td>\n",
       "      <td>0</td>\n",
       "      <td>0</td>\n",
       "      <td>0</td>\n",
       "      <td>0</td>\n",
       "      <td>0</td>\n",
       "      <td>3</td>\n",
       "      <td>11</td>\n",
       "      <td>0</td>\n",
       "    </tr>\n",
       "    <tr>\n",
       "      <th>...</th>\n",
       "      <td>...</td>\n",
       "      <td>...</td>\n",
       "      <td>...</td>\n",
       "      <td>...</td>\n",
       "      <td>...</td>\n",
       "      <td>...</td>\n",
       "      <td>...</td>\n",
       "      <td>...</td>\n",
       "      <td>...</td>\n",
       "      <td>...</td>\n",
       "      <td>...</td>\n",
       "      <td>...</td>\n",
       "      <td>...</td>\n",
       "      <td>...</td>\n",
       "      <td>...</td>\n",
       "      <td>...</td>\n",
       "      <td>...</td>\n",
       "      <td>...</td>\n",
       "      <td>...</td>\n",
       "      <td>...</td>\n",
       "      <td>...</td>\n",
       "    </tr>\n",
       "    <tr>\n",
       "      <th>2235</th>\n",
       "      <td>10870</td>\n",
       "      <td>1967</td>\n",
       "      <td>Graduation</td>\n",
       "      <td>Married</td>\n",
       "      <td>61223.0</td>\n",
       "      <td>0</td>\n",
       "      <td>1</td>\n",
       "      <td>2013-06-13</td>\n",
       "      <td>46</td>\n",
       "      <td>709</td>\n",
       "      <td>...</td>\n",
       "      <td>5</td>\n",
       "      <td>0</td>\n",
       "      <td>0</td>\n",
       "      <td>0</td>\n",
       "      <td>0</td>\n",
       "      <td>0</td>\n",
       "      <td>0</td>\n",
       "      <td>3</td>\n",
       "      <td>11</td>\n",
       "      <td>0</td>\n",
       "    </tr>\n",
       "    <tr>\n",
       "      <th>2236</th>\n",
       "      <td>4001</td>\n",
       "      <td>1946</td>\n",
       "      <td>PhD</td>\n",
       "      <td>Together</td>\n",
       "      <td>64014.0</td>\n",
       "      <td>2</td>\n",
       "      <td>1</td>\n",
       "      <td>2014-06-10</td>\n",
       "      <td>56</td>\n",
       "      <td>406</td>\n",
       "      <td>...</td>\n",
       "      <td>7</td>\n",
       "      <td>1</td>\n",
       "      <td>0</td>\n",
       "      <td>0</td>\n",
       "      <td>0</td>\n",
       "      <td>0</td>\n",
       "      <td>0</td>\n",
       "      <td>3</td>\n",
       "      <td>11</td>\n",
       "      <td>0</td>\n",
       "    </tr>\n",
       "    <tr>\n",
       "      <th>2237</th>\n",
       "      <td>7270</td>\n",
       "      <td>1981</td>\n",
       "      <td>Graduation</td>\n",
       "      <td>Divorced</td>\n",
       "      <td>56981.0</td>\n",
       "      <td>0</td>\n",
       "      <td>0</td>\n",
       "      <td>2014-01-25</td>\n",
       "      <td>91</td>\n",
       "      <td>908</td>\n",
       "      <td>...</td>\n",
       "      <td>6</td>\n",
       "      <td>0</td>\n",
       "      <td>0</td>\n",
       "      <td>0</td>\n",
       "      <td>1</td>\n",
       "      <td>0</td>\n",
       "      <td>0</td>\n",
       "      <td>3</td>\n",
       "      <td>11</td>\n",
       "      <td>0</td>\n",
       "    </tr>\n",
       "    <tr>\n",
       "      <th>2238</th>\n",
       "      <td>8235</td>\n",
       "      <td>1956</td>\n",
       "      <td>Master</td>\n",
       "      <td>Together</td>\n",
       "      <td>69245.0</td>\n",
       "      <td>0</td>\n",
       "      <td>1</td>\n",
       "      <td>2014-01-24</td>\n",
       "      <td>8</td>\n",
       "      <td>428</td>\n",
       "      <td>...</td>\n",
       "      <td>3</td>\n",
       "      <td>0</td>\n",
       "      <td>0</td>\n",
       "      <td>0</td>\n",
       "      <td>0</td>\n",
       "      <td>0</td>\n",
       "      <td>0</td>\n",
       "      <td>3</td>\n",
       "      <td>11</td>\n",
       "      <td>0</td>\n",
       "    </tr>\n",
       "    <tr>\n",
       "      <th>2239</th>\n",
       "      <td>9405</td>\n",
       "      <td>1954</td>\n",
       "      <td>PhD</td>\n",
       "      <td>Married</td>\n",
       "      <td>52869.0</td>\n",
       "      <td>1</td>\n",
       "      <td>1</td>\n",
       "      <td>2012-10-15</td>\n",
       "      <td>40</td>\n",
       "      <td>84</td>\n",
       "      <td>...</td>\n",
       "      <td>7</td>\n",
       "      <td>0</td>\n",
       "      <td>0</td>\n",
       "      <td>0</td>\n",
       "      <td>0</td>\n",
       "      <td>0</td>\n",
       "      <td>0</td>\n",
       "      <td>3</td>\n",
       "      <td>11</td>\n",
       "      <td>1</td>\n",
       "    </tr>\n",
       "  </tbody>\n",
       "</table>\n",
       "<p>2240 rows × 29 columns</p>\n",
       "</div>"
      ],
      "text/plain": [
       "         ID  Year_Birth   Education Marital_Status   Income  Kidhome  \\\n",
       "0      5524        1957  Graduation         Single  58138.0        0   \n",
       "1      2174        1954  Graduation         Single  46344.0        1   \n",
       "2      4141        1965  Graduation       Together  71613.0        0   \n",
       "3      6182        1984  Graduation       Together  26646.0        1   \n",
       "4      5324        1981         PhD        Married  58293.0        1   \n",
       "...     ...         ...         ...            ...      ...      ...   \n",
       "2235  10870        1967  Graduation        Married  61223.0        0   \n",
       "2236   4001        1946         PhD       Together  64014.0        2   \n",
       "2237   7270        1981  Graduation       Divorced  56981.0        0   \n",
       "2238   8235        1956      Master       Together  69245.0        0   \n",
       "2239   9405        1954         PhD        Married  52869.0        1   \n",
       "\n",
       "      Teenhome Dt_Customer  Recency  MntWines  ...  NumWebVisitsMonth  \\\n",
       "0            0  2012-09-04       58       635  ...                  7   \n",
       "1            1  2014-03-08       38        11  ...                  5   \n",
       "2            0  2013-08-21       26       426  ...                  4   \n",
       "3            0  2014-02-10       26        11  ...                  6   \n",
       "4            0  2014-01-19       94       173  ...                  5   \n",
       "...        ...         ...      ...       ...  ...                ...   \n",
       "2235         1  2013-06-13       46       709  ...                  5   \n",
       "2236         1  2014-06-10       56       406  ...                  7   \n",
       "2237         0  2014-01-25       91       908  ...                  6   \n",
       "2238         1  2014-01-24        8       428  ...                  3   \n",
       "2239         1  2012-10-15       40        84  ...                  7   \n",
       "\n",
       "      AcceptedCmp1  AcceptedCmp2  AcceptedCmp3  AcceptedCmp4  AcceptedCmp5  \\\n",
       "0                0             0             0             0             0   \n",
       "1                0             0             0             0             0   \n",
       "2                0             0             0             0             0   \n",
       "3                0             0             0             0             0   \n",
       "4                0             0             0             0             0   \n",
       "...            ...           ...           ...           ...           ...   \n",
       "2235             0             0             0             0             0   \n",
       "2236             1             0             0             0             0   \n",
       "2237             0             0             0             1             0   \n",
       "2238             0             0             0             0             0   \n",
       "2239             0             0             0             0             0   \n",
       "\n",
       "      Complain  Z_CostContact  Z_Revenue  Response  \n",
       "0            0              3         11         1  \n",
       "1            0              3         11         0  \n",
       "2            0              3         11         0  \n",
       "3            0              3         11         0  \n",
       "4            0              3         11         0  \n",
       "...        ...            ...        ...       ...  \n",
       "2235         0              3         11         0  \n",
       "2236         0              3         11         0  \n",
       "2237         0              3         11         0  \n",
       "2238         0              3         11         0  \n",
       "2239         0              3         11         1  \n",
       "\n",
       "[2240 rows x 29 columns]"
      ]
     },
     "execution_count": 52,
     "metadata": {},
     "output_type": "execute_result"
    }
   ],
   "source": [
    "rf = pd.read_excel('marketing_campaign.xlsx')\n",
    "rf"
   ]
  },
  {
   "cell_type": "code",
   "execution_count": 53,
   "id": "42c23179",
   "metadata": {},
   "outputs": [],
   "source": [
    "import gradio as gd"
   ]
  },
  {
   "cell_type": "code",
   "execution_count": 54,
   "id": "097bb31a",
   "metadata": {},
   "outputs": [
    {
     "data": {
      "text/plain": [
       "Index(['Year_Birth', 'Education', 'Marital_Status', 'Income', 'Recency',\n",
       "       'Response', 'Spending', 'No_of_Visits_and_Purchase', 'Accepted_offers',\n",
       "       'home_members', 'Seniority'],\n",
       "      dtype='object')"
      ]
     },
     "execution_count": 54,
     "metadata": {},
     "output_type": "execute_result"
    }
   ],
   "source": [
    "df.columns"
   ]
  },
  {
   "cell_type": "code",
   "execution_count": 55,
   "id": "7a01a77f",
   "metadata": {},
   "outputs": [
    {
     "data": {
      "text/plain": [
       "array([1, 0], dtype=int64)"
      ]
     },
     "execution_count": 55,
     "metadata": {},
     "output_type": "execute_result"
    }
   ],
   "source": [
    "df['Response'].head(50).unique().round()"
   ]
  },
  {
   "cell_type": "code",
   "execution_count": 56,
   "id": "9b8dc17f",
   "metadata": {},
   "outputs": [],
   "source": [
    "Year_Birth = gd.inputs.Dropdown([1957, 1954, 1965, 1984, 1981, 1967, 1971, 1985, 1974, 1950, 1983,\n",
    "       1976, 1959, 1952, 1987, 1946, 1980, 1949, 1982, 1979, 1951, 1969,\n",
    "       1986, 1989, 1963, 1970, 1973, 1943, 1975, 1996, 1968],label='Year_Birth')"
   ]
  },
  {
   "cell_type": "code",
   "execution_count": 57,
   "id": "8d92fcce",
   "metadata": {},
   "outputs": [],
   "source": [
    "Education = gd.inputs.Dropdown(['Graduation', 'PhD', 'Master', 'Basic', '2n Cycle'],label='Education')"
   ]
  },
  {
   "cell_type": "code",
   "execution_count": 58,
   "id": "b1ed38e8",
   "metadata": {},
   "outputs": [],
   "source": [
    "Marital_Status = gd.inputs.Dropdown(['Single', 'Together', 'Married', 'Divorced', 'Widow'],label='Marital_Status')"
   ]
  },
  {
   "cell_type": "code",
   "execution_count": 59,
   "id": "f01e702e",
   "metadata": {},
   "outputs": [],
   "source": [
    "Income = gd.inputs.Dropdown([58138.        , 46344.        , 71613.        , 26646.        ,\n",
    "       58293.        , 62513.        , 55635.        , 33454.        ,\n",
    "       30351.        ,  5648.        , 52247.25135379,  7500.        ,\n",
    "       63033.        , 59354.        , 17323.        , 82800.        ,\n",
    "       41850.        , 37760.        , 76995.        , 33812.        ,\n",
    "       37040.        ,  2447.        , 58607.        , 65324.        ,\n",
    "       40689.        , 18589.        , 53359.        , 38360.        ,\n",
    "       84618.        , 10979.        , 38620.        , 40548.        ,\n",
    "       46610.        , 68657.        , 49389.        , 67353.        ,\n",
    "       23718.        , 42429.        , 48948.        , 80011.        ,\n",
    "       20559.        , 21994.        , 79941.        , 41728.        ,\n",
    "       72550.       ],label='Income')"
   ]
  },
  {
   "cell_type": "code",
   "execution_count": 60,
   "id": "4508c3f5",
   "metadata": {},
   "outputs": [],
   "source": [
    "Recency = gd.inputs.Dropdown([58, 38, 26, 94, 16, 34, 32, 19, 68, 11, 59, 82, 53, 23, 51, 20, 91,\n",
    "       86, 41, 42, 63,  0, 69, 89,  4, 96, 56, 31,  8, 55, 37, 76, 99,  3,\n",
    "       88, 80, 72, 24, 92, 39],label='Recency')"
   ]
  },
  {
   "cell_type": "code",
   "execution_count": 61,
   "id": "51b2d9c7",
   "metadata": {},
   "outputs": [],
   "source": [
    "Spending = gd.inputs.Dropdown([1529,   21,  734,   48,  407,  702,  563,  146,   44,   36,   18,\n",
    "         45, 1072,  296,   41, 1270,   92,  289, 1606,   94,  268, 1729,\n",
    "        953,  539,  345,   62,  216,  275,  121, 1672,   26,  229,  117,\n",
    "        259, 1174,  878,   63,  860, 1293,   46,   19,  147,  810,   72,\n",
    "         42, 1281],label='Spending')"
   ]
  },
  {
   "cell_type": "code",
   "execution_count": 62,
   "id": "2fb0c48a",
   "metadata": {},
   "outputs": [],
   "source": [
    "No_of_Visits_and_Purchase = gd.inputs.Dropdown([21,  4, 11, 13, 12, 14,  6,  2,  3,  8, 10,  7, 17,  5, 43, 15, 27,\n",
    "       16,  9, 19,  1],label='No_of_Visits_and_Purchase')"
   ]
  },
  {
   "cell_type": "code",
   "execution_count": 63,
   "id": "84f163e6",
   "metadata": {},
   "outputs": [],
   "source": [
    "Accepted_offers = gd.inputs.Dropdown([0, 1, 2],label='Accepted_offers')"
   ]
  },
  {
   "cell_type": "code",
   "execution_count": 64,
   "id": "eaece21d",
   "metadata": {},
   "outputs": [],
   "source": [
    "home_members = gd.inputs.Dropdown([0, 2, 1, 3],label='home_members')"
   ]
  },
  {
   "cell_type": "code",
   "execution_count": 65,
   "id": "7c45cf0b",
   "metadata": {},
   "outputs": [],
   "source": [
    "Seniority = gd.inputs.Dropdown([25.,  7., 14.,  8.,  9., 13., 23., 17., 16.,  7., 11., 24., 23.,\n",
    "       22., 25., 18., 23., 26., 21., 22.,  9., 19., 21., 16., 20., 16.,\n",
    "       11.,  4., 17., 24., 13.,  9., 13.,  8., 20., 17., 19., 11., 12.,\n",
    "        3., 23., 17.,  9., 23.],label='Seniority')"
   ]
  },
  {
   "cell_type": "code",
   "execution_count": 122,
   "id": "6f1b75d4",
   "metadata": {},
   "outputs": [],
   "source": [
    "def mod(Year_Birth, Education, Marital_Status, Income, Recency,\n",
    "       Spending, No_of_Visits_and_Purchase, Accepted_offers,\n",
    "       home_members, Seniority):\n",
    "    x1 = [Year_Birth, Education, Marital_Status, Income, Recency,\n",
    "       Spending, No_of_Visits_and_Purchase, Accepted_offers,\n",
    "       home_members, Seniority]\n",
    "    test=df.drop(['Response'] ,axis=1)\n",
    "    x1 =pd.DataFrame(np.array(x1).reshape(1,-1),columns=test.columns)\n",
    "    test = test.append(x1,ignore_index = True)\n",
    "    test['Marital_Status'] = LabelEncoder().fit_transform(test['Marital_Status'])\n",
    "    test['Education'] = LabelEncoder().fit_transform(test['Education'])\n",
    "    x2 = test.iloc[-1,:]\n",
    "    y_hat =  modelfit.predict(np.array(x2).reshape(1,-1))\n",
    "    pred={0:\"NO\",1:\"YES\" }\n",
    "    return pred[y_hat[0]]"
   ]
  },
  {
   "cell_type": "code",
   "execution_count": 76,
   "id": "41a2fb4d",
   "metadata": {},
   "outputs": [
    {
     "data": {
      "text/plain": [
       "Year_Birth                   0\n",
       "Education                    0\n",
       "Marital_Status               0\n",
       "Income                       0\n",
       "Recency                      0\n",
       "Spending                     0\n",
       "No_of_Visits_and_Purchase    0\n",
       "Accepted_offers              0\n",
       "home_members                 0\n",
       "Seniority                    0\n",
       "dtype: int64"
      ]
     },
     "execution_count": 76,
     "metadata": {},
     "output_type": "execute_result"
    }
   ],
   "source": [
    "test.isnull().sum()"
   ]
  },
  {
   "cell_type": "code",
   "execution_count": 123,
   "id": "58147052",
   "metadata": {
    "scrolled": false
   },
   "outputs": [
    {
     "name": "stdout",
     "output_type": "stream",
     "text": [
      "Running locally at: http://127.0.0.1:7862/\n",
      "To create a public link, set `share=True` in `launch()`.\n",
      "Interface loading below...\n"
     ]
    },
    {
     "data": {
      "text/html": [
       "\n",
       "        <iframe\n",
       "            width=\"1000\"\n",
       "            height=\"500\"\n",
       "            src=\"http://127.0.0.1:7862/\"\n",
       "            frameborder=\"0\"\n",
       "            allowfullscreen\n",
       "        ></iframe>\n",
       "        "
      ],
      "text/plain": [
       "<IPython.lib.display.IFrame at 0x19bca6dc400>"
      ]
     },
     "metadata": {},
     "output_type": "display_data"
    },
    {
     "data": {
      "text/plain": [
       "(<Flask 'gradio.networking'>, 'http://127.0.0.1:7862/', None)"
      ]
     },
     "execution_count": 123,
     "metadata": {},
     "output_type": "execute_result"
    }
   ],
   "source": [
    "gd.Interface(mod, [Year_Birth, Education, Marital_Status, Income, Recency,\n",
    "        Spending, No_of_Visits_and_Purchase, Accepted_offers,\n",
    "       home_members, Seniority],\n",
    "             gd.outputs.Textbox(label='Response')).launch()\n"
   ]
  },
  {
   "cell_type": "markdown",
   "id": "8b4339c2",
   "metadata": {},
   "source": [
    "-----"
   ]
  },
  {
   "cell_type": "markdown",
   "id": "3c36dea7",
   "metadata": {},
   "source": [
    "# Customer Based Segmentation"
   ]
  },
  {
   "cell_type": "code",
   "execution_count": 154,
   "id": "43ad7544",
   "metadata": {},
   "outputs": [
    {
     "data": {
      "text/html": [
       "<div>\n",
       "<style scoped>\n",
       "    .dataframe tbody tr th:only-of-type {\n",
       "        vertical-align: middle;\n",
       "    }\n",
       "\n",
       "    .dataframe tbody tr th {\n",
       "        vertical-align: top;\n",
       "    }\n",
       "\n",
       "    .dataframe thead th {\n",
       "        text-align: right;\n",
       "    }\n",
       "</style>\n",
       "<table border=\"1\" class=\"dataframe\">\n",
       "  <thead>\n",
       "    <tr style=\"text-align: right;\">\n",
       "      <th></th>\n",
       "      <th>Income</th>\n",
       "      <th>Spending</th>\n",
       "      <th>Seniority</th>\n",
       "    </tr>\n",
       "  </thead>\n",
       "  <tbody>\n",
       "    <tr>\n",
       "      <th>0</th>\n",
       "      <td>58138.0</td>\n",
       "      <td>1529</td>\n",
       "      <td>25.333333</td>\n",
       "    </tr>\n",
       "    <tr>\n",
       "      <th>1</th>\n",
       "      <td>46344.0</td>\n",
       "      <td>21</td>\n",
       "      <td>7.000000</td>\n",
       "    </tr>\n",
       "    <tr>\n",
       "      <th>2</th>\n",
       "      <td>71613.0</td>\n",
       "      <td>734</td>\n",
       "      <td>13.633333</td>\n",
       "    </tr>\n",
       "    <tr>\n",
       "      <th>3</th>\n",
       "      <td>26646.0</td>\n",
       "      <td>48</td>\n",
       "      <td>7.866667</td>\n",
       "    </tr>\n",
       "    <tr>\n",
       "      <th>4</th>\n",
       "      <td>58293.0</td>\n",
       "      <td>407</td>\n",
       "      <td>8.600000</td>\n",
       "    </tr>\n",
       "    <tr>\n",
       "      <th>...</th>\n",
       "      <td>...</td>\n",
       "      <td>...</td>\n",
       "      <td>...</td>\n",
       "    </tr>\n",
       "    <tr>\n",
       "      <th>2235</th>\n",
       "      <td>61223.0</td>\n",
       "      <td>1094</td>\n",
       "      <td>15.933333</td>\n",
       "    </tr>\n",
       "    <tr>\n",
       "      <th>2236</th>\n",
       "      <td>64014.0</td>\n",
       "      <td>436</td>\n",
       "      <td>3.866667</td>\n",
       "    </tr>\n",
       "    <tr>\n",
       "      <th>2237</th>\n",
       "      <td>56981.0</td>\n",
       "      <td>1217</td>\n",
       "      <td>8.400000</td>\n",
       "    </tr>\n",
       "    <tr>\n",
       "      <th>2238</th>\n",
       "      <td>69245.0</td>\n",
       "      <td>782</td>\n",
       "      <td>8.433333</td>\n",
       "    </tr>\n",
       "    <tr>\n",
       "      <th>2239</th>\n",
       "      <td>52869.0</td>\n",
       "      <td>151</td>\n",
       "      <td>23.966667</td>\n",
       "    </tr>\n",
       "  </tbody>\n",
       "</table>\n",
       "<p>2240 rows × 3 columns</p>\n",
       "</div>"
      ],
      "text/plain": [
       "       Income  Spending  Seniority\n",
       "0     58138.0      1529  25.333333\n",
       "1     46344.0        21   7.000000\n",
       "2     71613.0       734  13.633333\n",
       "3     26646.0        48   7.866667\n",
       "4     58293.0       407   8.600000\n",
       "...       ...       ...        ...\n",
       "2235  61223.0      1094  15.933333\n",
       "2236  64014.0       436   3.866667\n",
       "2237  56981.0      1217   8.400000\n",
       "2238  69245.0       782   8.433333\n",
       "2239  52869.0       151  23.966667\n",
       "\n",
       "[2240 rows x 3 columns]"
      ]
     },
     "execution_count": 154,
     "metadata": {},
     "output_type": "execute_result"
    }
   ],
   "source": [
    "dfset"
   ]
  },
  {
   "cell_type": "markdown",
   "id": "38af3720",
   "metadata": {},
   "source": [
    "#### BOXPLOT TO FIND OUTLIER ####"
   ]
  },
  {
   "cell_type": "code",
   "execution_count": 155,
   "id": "7e937239",
   "metadata": {},
   "outputs": [
    {
     "data": {
      "text/plain": [
       "<AxesSubplot:xlabel='Income'>"
      ]
     },
     "execution_count": 155,
     "metadata": {},
     "output_type": "execute_result"
    },
    {
     "data": {
      "image/png": "[encoded data removed]",
      "text/plain": [
       "<Figure size 432x288 with 1 Axes>"
      ]
     },
     "metadata": {
      "needs_background": "light"
     },
     "output_type": "display_data"
    }
   ],
   "source": [
    "import seaborn as sb\n",
    "sb.boxplot(dfset['Income'])"
   ]
  },
  {
   "cell_type": "markdown",
   "id": "aba7ff50",
   "metadata": {},
   "source": [
    "#### REMOVING OUTLIER ####"
   ]
  },
  {
   "cell_type": "code",
   "execution_count": 156,
   "id": "d4961faa",
   "metadata": {},
   "outputs": [
    {
     "data": {
      "text/html": [
       "<div>\n",
       "<style scoped>\n",
       "    .dataframe tbody tr th:only-of-type {\n",
       "        vertical-align: middle;\n",
       "    }\n",
       "\n",
       "    .dataframe tbody tr th {\n",
       "        vertical-align: top;\n",
       "    }\n",
       "\n",
       "    .dataframe thead th {\n",
       "        text-align: right;\n",
       "    }\n",
       "</style>\n",
       "<table border=\"1\" class=\"dataframe\">\n",
       "  <thead>\n",
       "    <tr style=\"text-align: right;\">\n",
       "      <th></th>\n",
       "      <th>Income</th>\n",
       "      <th>Spending</th>\n",
       "      <th>Seniority</th>\n",
       "    </tr>\n",
       "  </thead>\n",
       "  <tbody>\n",
       "    <tr>\n",
       "      <th>0</th>\n",
       "      <td>58138.0</td>\n",
       "      <td>1529</td>\n",
       "      <td>25.333333</td>\n",
       "    </tr>\n",
       "    <tr>\n",
       "      <th>1</th>\n",
       "      <td>46344.0</td>\n",
       "      <td>21</td>\n",
       "      <td>7.000000</td>\n",
       "    </tr>\n",
       "    <tr>\n",
       "      <th>2</th>\n",
       "      <td>71613.0</td>\n",
       "      <td>734</td>\n",
       "      <td>13.633333</td>\n",
       "    </tr>\n",
       "    <tr>\n",
       "      <th>3</th>\n",
       "      <td>26646.0</td>\n",
       "      <td>48</td>\n",
       "      <td>7.866667</td>\n",
       "    </tr>\n",
       "    <tr>\n",
       "      <th>4</th>\n",
       "      <td>58293.0</td>\n",
       "      <td>407</td>\n",
       "      <td>8.600000</td>\n",
       "    </tr>\n",
       "    <tr>\n",
       "      <th>...</th>\n",
       "      <td>...</td>\n",
       "      <td>...</td>\n",
       "      <td>...</td>\n",
       "    </tr>\n",
       "    <tr>\n",
       "      <th>2235</th>\n",
       "      <td>61223.0</td>\n",
       "      <td>1094</td>\n",
       "      <td>15.933333</td>\n",
       "    </tr>\n",
       "    <tr>\n",
       "      <th>2236</th>\n",
       "      <td>64014.0</td>\n",
       "      <td>436</td>\n",
       "      <td>3.866667</td>\n",
       "    </tr>\n",
       "    <tr>\n",
       "      <th>2237</th>\n",
       "      <td>56981.0</td>\n",
       "      <td>1217</td>\n",
       "      <td>8.400000</td>\n",
       "    </tr>\n",
       "    <tr>\n",
       "      <th>2238</th>\n",
       "      <td>69245.0</td>\n",
       "      <td>782</td>\n",
       "      <td>8.433333</td>\n",
       "    </tr>\n",
       "    <tr>\n",
       "      <th>2239</th>\n",
       "      <td>52869.0</td>\n",
       "      <td>151</td>\n",
       "      <td>23.966667</td>\n",
       "    </tr>\n",
       "  </tbody>\n",
       "</table>\n",
       "<p>2234 rows × 3 columns</p>\n",
       "</div>"
      ],
      "text/plain": [
       "       Income  Spending  Seniority\n",
       "0     58138.0      1529  25.333333\n",
       "1     46344.0        21   7.000000\n",
       "2     71613.0       734  13.633333\n",
       "3     26646.0        48   7.866667\n",
       "4     58293.0       407   8.600000\n",
       "...       ...       ...        ...\n",
       "2235  61223.0      1094  15.933333\n",
       "2236  64014.0       436   3.866667\n",
       "2237  56981.0      1217   8.400000\n",
       "2238  69245.0       782   8.433333\n",
       "2239  52869.0       151  23.966667\n",
       "\n",
       "[2234 rows x 3 columns]"
      ]
     },
     "execution_count": 156,
     "metadata": {},
     "output_type": "execute_result"
    }
   ],
   "source": [
    "dfset1 = dfset[~(dfset['Spending']> 2250)]\n",
    "dfset1"
   ]
  },
  {
   "cell_type": "code",
   "execution_count": 157,
   "id": "c79a9b20",
   "metadata": {},
   "outputs": [
    {
     "data": {
      "text/html": [
       "<div>\n",
       "<style scoped>\n",
       "    .dataframe tbody tr th:only-of-type {\n",
       "        vertical-align: middle;\n",
       "    }\n",
       "\n",
       "    .dataframe tbody tr th {\n",
       "        vertical-align: top;\n",
       "    }\n",
       "\n",
       "    .dataframe thead th {\n",
       "        text-align: right;\n",
       "    }\n",
       "</style>\n",
       "<table border=\"1\" class=\"dataframe\">\n",
       "  <thead>\n",
       "    <tr style=\"text-align: right;\">\n",
       "      <th></th>\n",
       "      <th>Income</th>\n",
       "      <th>Spending</th>\n",
       "      <th>Seniority</th>\n",
       "    </tr>\n",
       "  </thead>\n",
       "  <tbody>\n",
       "    <tr>\n",
       "      <th>0</th>\n",
       "      <td>58138.0</td>\n",
       "      <td>1529</td>\n",
       "      <td>25.333333</td>\n",
       "    </tr>\n",
       "    <tr>\n",
       "      <th>1</th>\n",
       "      <td>46344.0</td>\n",
       "      <td>21</td>\n",
       "      <td>7.000000</td>\n",
       "    </tr>\n",
       "    <tr>\n",
       "      <th>2</th>\n",
       "      <td>71613.0</td>\n",
       "      <td>734</td>\n",
       "      <td>13.633333</td>\n",
       "    </tr>\n",
       "    <tr>\n",
       "      <th>3</th>\n",
       "      <td>26646.0</td>\n",
       "      <td>48</td>\n",
       "      <td>7.866667</td>\n",
       "    </tr>\n",
       "    <tr>\n",
       "      <th>4</th>\n",
       "      <td>58293.0</td>\n",
       "      <td>407</td>\n",
       "      <td>8.600000</td>\n",
       "    </tr>\n",
       "    <tr>\n",
       "      <th>...</th>\n",
       "      <td>...</td>\n",
       "      <td>...</td>\n",
       "      <td>...</td>\n",
       "    </tr>\n",
       "    <tr>\n",
       "      <th>2235</th>\n",
       "      <td>61223.0</td>\n",
       "      <td>1094</td>\n",
       "      <td>15.933333</td>\n",
       "    </tr>\n",
       "    <tr>\n",
       "      <th>2236</th>\n",
       "      <td>64014.0</td>\n",
       "      <td>436</td>\n",
       "      <td>3.866667</td>\n",
       "    </tr>\n",
       "    <tr>\n",
       "      <th>2237</th>\n",
       "      <td>56981.0</td>\n",
       "      <td>1217</td>\n",
       "      <td>8.400000</td>\n",
       "    </tr>\n",
       "    <tr>\n",
       "      <th>2238</th>\n",
       "      <td>69245.0</td>\n",
       "      <td>782</td>\n",
       "      <td>8.433333</td>\n",
       "    </tr>\n",
       "    <tr>\n",
       "      <th>2239</th>\n",
       "      <td>52869.0</td>\n",
       "      <td>151</td>\n",
       "      <td>23.966667</td>\n",
       "    </tr>\n",
       "  </tbody>\n",
       "</table>\n",
       "<p>2226 rows × 3 columns</p>\n",
       "</div>"
      ],
      "text/plain": [
       "       Income  Spending  Seniority\n",
       "0     58138.0      1529  25.333333\n",
       "1     46344.0        21   7.000000\n",
       "2     71613.0       734  13.633333\n",
       "3     26646.0        48   7.866667\n",
       "4     58293.0       407   8.600000\n",
       "...       ...       ...        ...\n",
       "2235  61223.0      1094  15.933333\n",
       "2236  64014.0       436   3.866667\n",
       "2237  56981.0      1217   8.400000\n",
       "2238  69245.0       782   8.433333\n",
       "2239  52869.0       151  23.966667\n",
       "\n",
       "[2226 rows x 3 columns]"
      ]
     },
     "execution_count": 157,
     "metadata": {},
     "output_type": "execute_result"
    }
   ],
   "source": [
    "dfset2 = dfset1[~(dfset['Income']> 125000)]\n",
    "dfset2"
   ]
  },
  {
   "cell_type": "code",
   "execution_count": 158,
   "id": "cc72b4b5",
   "metadata": {},
   "outputs": [
    {
     "data": {
      "text/plain": [
       "666666.0"
      ]
     },
     "execution_count": 158,
     "metadata": {},
     "output_type": "execute_result"
    }
   ],
   "source": [
    "max(dfset['Income'])"
   ]
  },
  {
   "cell_type": "code",
   "execution_count": 159,
   "id": "a02ad828",
   "metadata": {},
   "outputs": [],
   "source": [
    "from sklearn.cluster import KMeans"
   ]
  },
  {
   "cell_type": "code",
   "execution_count": 160,
   "id": "294e654a",
   "metadata": {},
   "outputs": [
    {
     "data": {
      "text/plain": [
       "[<matplotlib.lines.Line2D at 0x13774a750>]"
      ]
     },
     "execution_count": 160,
     "metadata": {},
     "output_type": "execute_result"
    },
    {
     "data": {
      "image/png": "[encoded data removed]",
      "text/plain": [
       "<Figure size 432x288 with 1 Axes>"
      ]
     },
     "metadata": {
      "needs_background": "light"
     },
     "output_type": "display_data"
    }
   ],
   "source": [
    "a=[]\n",
    "\n",
    "for i in range(1,15):\n",
    "    kmeans=KMeans(i)\n",
    "    kmeans.fit(dfset2)\n",
    "    a.append(kmeans.inertia_)\n",
    "plt.plot(range(1,15),a)"
   ]
  },
  {
   "cell_type": "code",
   "execution_count": 161,
   "id": "ce904020",
   "metadata": {},
   "outputs": [
    {
     "data": {
      "text/plain": [
       "KMeans(n_clusters=3)"
      ]
     },
     "execution_count": 161,
     "metadata": {},
     "output_type": "execute_result"
    }
   ],
   "source": [
    "kmeans=KMeans(3)\n",
    "kmeans.fit(dfset2)"
   ]
  },
  {
   "cell_type": "code",
   "execution_count": 162,
   "id": "466b930e",
   "metadata": {},
   "outputs": [
    {
     "data": {
      "text/html": [
       "<div>\n",
       "<style scoped>\n",
       "    .dataframe tbody tr th:only-of-type {\n",
       "        vertical-align: middle;\n",
       "    }\n",
       "\n",
       "    .dataframe tbody tr th {\n",
       "        vertical-align: top;\n",
       "    }\n",
       "\n",
       "    .dataframe thead th {\n",
       "        text-align: right;\n",
       "    }\n",
       "</style>\n",
       "<table border=\"1\" class=\"dataframe\">\n",
       "  <thead>\n",
       "    <tr style=\"text-align: right;\">\n",
       "      <th></th>\n",
       "      <th>Income</th>\n",
       "      <th>Spending</th>\n",
       "      <th>Seniority</th>\n",
       "      <th>Customer_Based_Segmentation</th>\n",
       "    </tr>\n",
       "  </thead>\n",
       "  <tbody>\n",
       "    <tr>\n",
       "      <th>0</th>\n",
       "      <td>58138.0</td>\n",
       "      <td>1529</td>\n",
       "      <td>25.333333</td>\n",
       "      <td>2</td>\n",
       "    </tr>\n",
       "    <tr>\n",
       "      <th>1</th>\n",
       "      <td>46344.0</td>\n",
       "      <td>21</td>\n",
       "      <td>7.000000</td>\n",
       "      <td>2</td>\n",
       "    </tr>\n",
       "    <tr>\n",
       "      <th>2</th>\n",
       "      <td>71613.0</td>\n",
       "      <td>734</td>\n",
       "      <td>13.633333</td>\n",
       "      <td>0</td>\n",
       "    </tr>\n",
       "    <tr>\n",
       "      <th>3</th>\n",
       "      <td>26646.0</td>\n",
       "      <td>48</td>\n",
       "      <td>7.866667</td>\n",
       "      <td>1</td>\n",
       "    </tr>\n",
       "    <tr>\n",
       "      <th>4</th>\n",
       "      <td>58293.0</td>\n",
       "      <td>407</td>\n",
       "      <td>8.600000</td>\n",
       "      <td>2</td>\n",
       "    </tr>\n",
       "    <tr>\n",
       "      <th>...</th>\n",
       "      <td>...</td>\n",
       "      <td>...</td>\n",
       "      <td>...</td>\n",
       "      <td>...</td>\n",
       "    </tr>\n",
       "    <tr>\n",
       "      <th>2235</th>\n",
       "      <td>61223.0</td>\n",
       "      <td>1094</td>\n",
       "      <td>15.933333</td>\n",
       "      <td>2</td>\n",
       "    </tr>\n",
       "    <tr>\n",
       "      <th>2236</th>\n",
       "      <td>64014.0</td>\n",
       "      <td>436</td>\n",
       "      <td>3.866667</td>\n",
       "      <td>0</td>\n",
       "    </tr>\n",
       "    <tr>\n",
       "      <th>2237</th>\n",
       "      <td>56981.0</td>\n",
       "      <td>1217</td>\n",
       "      <td>8.400000</td>\n",
       "      <td>2</td>\n",
       "    </tr>\n",
       "    <tr>\n",
       "      <th>2238</th>\n",
       "      <td>69245.0</td>\n",
       "      <td>782</td>\n",
       "      <td>8.433333</td>\n",
       "      <td>0</td>\n",
       "    </tr>\n",
       "    <tr>\n",
       "      <th>2239</th>\n",
       "      <td>52869.0</td>\n",
       "      <td>151</td>\n",
       "      <td>23.966667</td>\n",
       "      <td>2</td>\n",
       "    </tr>\n",
       "  </tbody>\n",
       "</table>\n",
       "<p>2226 rows × 4 columns</p>\n",
       "</div>"
      ],
      "text/plain": [
       "       Income  Spending  Seniority  Customer_Based_Segmentation\n",
       "0     58138.0      1529  25.333333                            2\n",
       "1     46344.0        21   7.000000                            2\n",
       "2     71613.0       734  13.633333                            0\n",
       "3     26646.0        48   7.866667                            1\n",
       "4     58293.0       407   8.600000                            2\n",
       "...       ...       ...        ...                          ...\n",
       "2235  61223.0      1094  15.933333                            2\n",
       "2236  64014.0       436   3.866667                            0\n",
       "2237  56981.0      1217   8.400000                            2\n",
       "2238  69245.0       782   8.433333                            0\n",
       "2239  52869.0       151  23.966667                            2\n",
       "\n",
       "[2226 rows x 4 columns]"
      ]
     },
     "execution_count": 162,
     "metadata": {},
     "output_type": "execute_result"
    }
   ],
   "source": [
    "clusters=dfset2.copy()\n",
    "clusters[\"Customer_Based_Segmentation\"]=kmeans.predict(dfset2)\n",
    "clusters"
   ]
  },
  {
   "cell_type": "code",
   "execution_count": 163,
   "id": "c1742986",
   "metadata": {},
   "outputs": [],
   "source": [
    "# The clusters are equally weighted :\n",
    "# - __Cluster 0__ is composed of __old customers__ with __high income__ and __high spending amount__<br>\n",
    "# - __Cluster 1__ is composed of __new customers__ with __below average income__ and __small spending amount__<br>\n",
    "# - __Cluster 2__ is composed of __new customers__ with __high income__ and __high spending amount__<br>\n",
    "# - __Cluster 3__ is composed of __old customers__ with __below average income__  and __small spending amount__<br>"
   ]
  },
  {
   "cell_type": "code",
   "execution_count": 164,
   "id": "b19e5b82",
   "metadata": {},
   "outputs": [
    {
     "data": {
      "text/plain": [
       "array([2, 0, 1], dtype=int32)"
      ]
     },
     "execution_count": 164,
     "metadata": {},
     "output_type": "execute_result"
    }
   ],
   "source": [
    "clusters[\"Customer_Based_Segmentation\"].unique()"
   ]
  },
  {
   "cell_type": "code",
   "execution_count": 165,
   "id": "0569c4c9",
   "metadata": {},
   "outputs": [
    {
     "data": {
      "text/html": [
       "<div>\n",
       "<style scoped>\n",
       "    .dataframe tbody tr th:only-of-type {\n",
       "        vertical-align: middle;\n",
       "    }\n",
       "\n",
       "    .dataframe tbody tr th {\n",
       "        vertical-align: top;\n",
       "    }\n",
       "\n",
       "    .dataframe thead th {\n",
       "        text-align: right;\n",
       "    }\n",
       "</style>\n",
       "<table border=\"1\" class=\"dataframe\">\n",
       "  <thead>\n",
       "    <tr style=\"text-align: right;\">\n",
       "      <th></th>\n",
       "      <th>Income</th>\n",
       "      <th>Spending</th>\n",
       "      <th>Seniority</th>\n",
       "    </tr>\n",
       "  </thead>\n",
       "  <tbody>\n",
       "    <tr>\n",
       "      <th>0</th>\n",
       "      <td>58138.0</td>\n",
       "      <td>1529</td>\n",
       "      <td>25.333333</td>\n",
       "    </tr>\n",
       "    <tr>\n",
       "      <th>1</th>\n",
       "      <td>46344.0</td>\n",
       "      <td>21</td>\n",
       "      <td>7.000000</td>\n",
       "    </tr>\n",
       "    <tr>\n",
       "      <th>2</th>\n",
       "      <td>71613.0</td>\n",
       "      <td>734</td>\n",
       "      <td>13.633333</td>\n",
       "    </tr>\n",
       "    <tr>\n",
       "      <th>3</th>\n",
       "      <td>26646.0</td>\n",
       "      <td>48</td>\n",
       "      <td>7.866667</td>\n",
       "    </tr>\n",
       "    <tr>\n",
       "      <th>4</th>\n",
       "      <td>58293.0</td>\n",
       "      <td>407</td>\n",
       "      <td>8.600000</td>\n",
       "    </tr>\n",
       "    <tr>\n",
       "      <th>...</th>\n",
       "      <td>...</td>\n",
       "      <td>...</td>\n",
       "      <td>...</td>\n",
       "    </tr>\n",
       "    <tr>\n",
       "      <th>2235</th>\n",
       "      <td>61223.0</td>\n",
       "      <td>1094</td>\n",
       "      <td>15.933333</td>\n",
       "    </tr>\n",
       "    <tr>\n",
       "      <th>2236</th>\n",
       "      <td>64014.0</td>\n",
       "      <td>436</td>\n",
       "      <td>3.866667</td>\n",
       "    </tr>\n",
       "    <tr>\n",
       "      <th>2237</th>\n",
       "      <td>56981.0</td>\n",
       "      <td>1217</td>\n",
       "      <td>8.400000</td>\n",
       "    </tr>\n",
       "    <tr>\n",
       "      <th>2238</th>\n",
       "      <td>69245.0</td>\n",
       "      <td>782</td>\n",
       "      <td>8.433333</td>\n",
       "    </tr>\n",
       "    <tr>\n",
       "      <th>2239</th>\n",
       "      <td>52869.0</td>\n",
       "      <td>151</td>\n",
       "      <td>23.966667</td>\n",
       "    </tr>\n",
       "  </tbody>\n",
       "</table>\n",
       "<p>2226 rows × 3 columns</p>\n",
       "</div>"
      ],
      "text/plain": [
       "       Income  Spending  Seniority\n",
       "0     58138.0      1529  25.333333\n",
       "1     46344.0        21   7.000000\n",
       "2     71613.0       734  13.633333\n",
       "3     26646.0        48   7.866667\n",
       "4     58293.0       407   8.600000\n",
       "...       ...       ...        ...\n",
       "2235  61223.0      1094  15.933333\n",
       "2236  64014.0       436   3.866667\n",
       "2237  56981.0      1217   8.400000\n",
       "2238  69245.0       782   8.433333\n",
       "2239  52869.0       151  23.966667\n",
       "\n",
       "[2226 rows x 3 columns]"
      ]
     },
     "execution_count": 165,
     "metadata": {},
     "output_type": "execute_result"
    }
   ],
   "source": [
    "x_indep=clusters.drop([\"Customer_Based_Segmentation\"], axis=1)\n",
    "x_indep"
   ]
  },
  {
   "cell_type": "code",
   "execution_count": 166,
   "id": "ca01f85d",
   "metadata": {},
   "outputs": [
    {
     "data": {
      "text/plain": [
       "0       2\n",
       "1       2\n",
       "2       0\n",
       "3       1\n",
       "4       2\n",
       "       ..\n",
       "2235    2\n",
       "2236    0\n",
       "2237    2\n",
       "2238    0\n",
       "2239    2\n",
       "Name: Customer_Based_Segmentation, Length: 2226, dtype: int32"
      ]
     },
     "execution_count": 166,
     "metadata": {},
     "output_type": "execute_result"
    }
   ],
   "source": [
    "y_dep=clusters.Customer_Based_Segmentation\n",
    "y_dep"
   ]
  },
  {
   "cell_type": "code",
   "execution_count": 167,
   "id": "cacb1d2d",
   "metadata": {},
   "outputs": [
    {
     "data": {
      "text/plain": [
       "Counter({2: 786, 0: 709, 1: 731})"
      ]
     },
     "execution_count": 167,
     "metadata": {},
     "output_type": "execute_result"
    }
   ],
   "source": [
    "counter=Counter(y_dep)\n",
    "counter"
   ]
  },
  {
   "cell_type": "code",
   "execution_count": 168,
   "id": "a85a4a0b",
   "metadata": {},
   "outputs": [],
   "source": [
    "# from imblearn.over_sampling import SMOTE\n",
    "# # bal=SMOTE()"
   ]
  },
  {
   "cell_type": "code",
   "execution_count": 169,
   "id": "e9b5568d",
   "metadata": {},
   "outputs": [],
   "source": [
    "# x_idep, y_dep= bal.fit_resample(x_indep, y_dep)"
   ]
  },
  {
   "cell_type": "code",
   "execution_count": 170,
   "id": "90575858",
   "metadata": {},
   "outputs": [],
   "source": [
    "# y_dep.value_counts()"
   ]
  },
  {
   "cell_type": "code",
   "execution_count": 171,
   "id": "c1a1efa5",
   "metadata": {},
   "outputs": [],
   "source": [
    "from sklearn.model_selection import train_test_split"
   ]
  },
  {
   "cell_type": "code",
   "execution_count": 172,
   "id": "46a9a50c",
   "metadata": {},
   "outputs": [],
   "source": [
    "x_train,x_test,y_train,y_test = train_test_split(x_indep,y_dep, test_size=0.2)"
   ]
  },
  {
   "cell_type": "code",
   "execution_count": 173,
   "id": "c14a68a5",
   "metadata": {},
   "outputs": [],
   "source": [
    "from sklearn.linear_model import LogisticRegression"
   ]
  },
  {
   "cell_type": "code",
   "execution_count": 174,
   "id": "a15cf0be",
   "metadata": {},
   "outputs": [],
   "source": [
    "model=LogisticRegression()\n",
    "modelfit = model.fit(x_train,y_train)"
   ]
  },
  {
   "cell_type": "code",
   "execution_count": 175,
   "id": "d6f8bda9",
   "metadata": {},
   "outputs": [
    {
     "data": {
      "text/plain": [
       "(71.74887892376681, '%')"
      ]
     },
     "execution_count": 175,
     "metadata": {},
     "output_type": "execute_result"
    }
   ],
   "source": [
    "Predict_model0=modelfit.predict(x_test)\n",
    "confusion_matrix(y_test,Predict_model0)\n",
    "lr_acc=(accuracy_score(y_test,Predict_model0)*100,\"%\")\n",
    "lr_acc"
   ]
  },
  {
   "cell_type": "code",
   "execution_count": 176,
   "id": "27283b4b",
   "metadata": {},
   "outputs": [],
   "source": [
    "from sklearn import preprocessing"
   ]
  },
  {
   "cell_type": "code",
   "execution_count": 177,
   "id": "c5f306c8",
   "metadata": {},
   "outputs": [],
   "source": [
    "from sklearn.ensemble import GradientBoostingClassifier"
   ]
  },
  {
   "cell_type": "code",
   "execution_count": 178,
   "id": "447119b9",
   "metadata": {},
   "outputs": [],
   "source": [
    "from sklearn.model_selection import GridSearchCV"
   ]
  },
  {
   "cell_type": "code",
   "execution_count": 179,
   "id": "e9de1a3e",
   "metadata": {},
   "outputs": [],
   "source": [
    "model_GB = GradientBoostingClassifier()"
   ]
  },
  {
   "cell_type": "code",
   "execution_count": 180,
   "id": "de1238a8",
   "metadata": {},
   "outputs": [
    {
     "name": "stdout",
     "output_type": "stream",
     "text": [
      "{'max_depth': 1, 'min_samples_split': 4}\n",
      "1.0\n"
     ]
    }
   ],
   "source": [
    "gbm = GridSearchCV(model_GB,\n",
    "                     param_grid = {'max_depth': range(1, 15),\n",
    "                                  'min_samples_split': range(1, 11, 3)},\n",
    "                     cv=5,\n",
    "                     n_jobs=-1,\n",
    "                     scoring='accuracy', \n",
    "#                    refit=True,\n",
    "                  )\n",
    "                      \n",
    "gbm.fit(x_train, y_train)\n",
    "\n",
    "print(gbm.best_params_)\n",
    "print(gbm.best_score_)"
   ]
  },
  {
   "cell_type": "code",
   "execution_count": 181,
   "id": "bfcc3ee2",
   "metadata": {},
   "outputs": [],
   "source": [
    "# Initiate the best model\n",
    "model_GB = GradientBoostingClassifier(max_depth=1, min_samples_split=4)"
   ]
  },
  {
   "cell_type": "code",
   "execution_count": 182,
   "id": "7e5de508",
   "metadata": {},
   "outputs": [],
   "source": [
    "# Fit the best model\n",
    "model_GB_fit=model_GB.fit(x_train, y_train)"
   ]
  },
  {
   "cell_type": "code",
   "execution_count": 183,
   "id": "8f5ac8f9",
   "metadata": {},
   "outputs": [],
   "source": [
    "Predict_model1 = model_GB_fit.predict(x_test)"
   ]
  },
  {
   "cell_type": "code",
   "execution_count": 184,
   "id": "04537e3f",
   "metadata": {},
   "outputs": [
    {
     "data": {
      "text/plain": [
       "array([[126,   0,   0],\n",
       "       [  0, 158,   0],\n",
       "       [  0,   0, 162]])"
      ]
     },
     "execution_count": 184,
     "metadata": {},
     "output_type": "execute_result"
    }
   ],
   "source": [
    "confusion_matrix(y_test,Predict_model1)"
   ]
  },
  {
   "cell_type": "code",
   "execution_count": 185,
   "id": "6561a9a7",
   "metadata": {},
   "outputs": [
    {
     "data": {
      "text/plain": [
       "(100.0, '%')"
      ]
     },
     "execution_count": 185,
     "metadata": {},
     "output_type": "execute_result"
    }
   ],
   "source": [
    "gbm_acc=(accuracy_score(y_test,Predict_model1)*100,\"%\")\n",
    "gbm_acc"
   ]
  },
  {
   "cell_type": "code",
   "execution_count": 186,
   "id": "be6df42e",
   "metadata": {},
   "outputs": [
    {
     "name": "stdout",
     "output_type": "stream",
     "text": [
      "              precision    recall  f1-score   support\n",
      "\n",
      "           0       1.00      1.00      1.00       126\n",
      "           1       1.00      1.00      1.00       158\n",
      "           2       1.00      1.00      1.00       162\n",
      "\n",
      "    accuracy                           1.00       446\n",
      "   macro avg       1.00      1.00      1.00       446\n",
      "weighted avg       1.00      1.00      1.00       446\n",
      "\n"
     ]
    }
   ],
   "source": [
    "classification_reports=print(classification_report(y_test,Predict_model1))"
   ]
  },
  {
   "cell_type": "code",
   "execution_count": 187,
   "id": "9629fd36",
   "metadata": {},
   "outputs": [
    {
     "data": {
      "text/plain": [
       "array([25.,  7., 14.,  8.,  9., 13., 23., 17., 16.,  7., 11., 24., 23.,\n",
       "       22., 25., 18., 23., 26., 21., 22.,  9., 19., 21., 16., 20., 16.,\n",
       "       11.,  4., 17., 24., 13.,  9., 13.,  8., 20., 17., 19., 11., 12.,\n",
       "        3., 23., 17.,  9., 23.])"
      ]
     },
     "execution_count": 187,
     "metadata": {},
     "output_type": "execute_result"
    }
   ],
   "source": [
    "dfset['Seniority'].head(50).unique().round()"
   ]
  },
  {
   "cell_type": "code",
   "execution_count": 188,
   "id": "2e6336aa",
   "metadata": {},
   "outputs": [],
   "source": [
    "import gradio as gd"
   ]
  },
  {
   "cell_type": "code",
   "execution_count": 189,
   "id": "782ccd26",
   "metadata": {},
   "outputs": [],
   "source": [
    "Income = gd.inputs.Dropdown([58138.        , 46344.        , 71613.        , 26646.        ,\n",
    "       58293.        , 62513.        , 55635.        , 33454.        ,\n",
    "       30351.        ,  5648.        , 52247.25135379,  7500.        ,\n",
    "       63033.        , 59354.        , 17323.        , 82800.        ,\n",
    "       41850.        , 37760.        , 76995.        , 33812.        ,\n",
    "       37040.        ,  2447.        , 58607.        , 65324.        ,\n",
    "       40689.        , 18589.        , 53359.        , 38360.        ,\n",
    "       84618.        , 10979.        , 38620.        , 40548.        ,\n",
    "       46610.        , 68657.        , 49389.        , 67353.        ,\n",
    "       23718.        , 42429.        , 48948.        , 80011.        ,\n",
    "       20559.        , 21994.        , 79941.        , 41728.        ,\n",
    "       72550.       ],label='Income')"
   ]
  },
  {
   "cell_type": "code",
   "execution_count": 190,
   "id": "d8708bc2",
   "metadata": {},
   "outputs": [],
   "source": [
    "Spending = gd.inputs.Dropdown([1529,   21,  734,   48,  407,  702,  563,  146,   44,   36,   18,\n",
    "         45, 1072,  296,   41, 1270,   92,  289, 1606,   94,  268, 1729,\n",
    "        953,  539,  345,   62,  216,  275,  121, 1672,   26,  229,  117,\n",
    "        259, 1174,  878,   63,  860, 1293,   46,   19,  147,  810,   72,\n",
    "         42, 1281],label='Spending')"
   ]
  },
  {
   "cell_type": "code",
   "execution_count": 191,
   "id": "a214d70e",
   "metadata": {},
   "outputs": [],
   "source": [
    "Seniority = gd.inputs.Dropdown([25.,  7., 14.,  8.,  9., 13., 23., 17., 16.,  7., 11., 24., 23.,\n",
    "       22., 25., 18., 23., 26., 21., 22.,  9., 19., 21., 16., 20., 16.,\n",
    "       11.,  4., 17., 24., 13.,  9., 13.,  8., 20., 17., 19., 11., 12.,\n",
    "        3., 23., 17.,  9., 23.],label='Seniority')"
   ]
  },
  {
   "cell_type": "code",
   "execution_count": 194,
   "id": "e4d8778c",
   "metadata": {},
   "outputs": [],
   "source": [
    "def mod(Income,Spending,Seniority):\n",
    "    x1 = [Income,Spending,Seniority]\n",
    "    test=dfset\n",
    "    x1 =pd.DataFrame(np.array(x1).reshape(1,-1),columns=test.columns)\n",
    "    test = test.append(x1,ignore_index = True)\n",
    "    x2 = test.iloc[-1,:]\n",
    "    y_hat =  model_GB_fit.predict(np.array(x2).reshape(1,-1))\n",
    "    pred={2:\"Platinum\", 1:\"Gold\", 0:\"Silver\"}\n",
    "    return pred[y_hat[0]]"
   ]
  },
  {
   "cell_type": "code",
   "execution_count": 195,
   "id": "bf93b55e",
   "metadata": {},
   "outputs": [
    {
     "name": "stdout",
     "output_type": "stream",
     "text": [
      "Running locally at: http://127.0.0.1:7866/\n",
      "To create a public link, set `share=True` in `launch()`.\n",
      "Interface loading below...\n"
     ]
    },
    {
     "data": {
      "text/html": [
       "\n",
       "        <iframe\n",
       "            width=\"1000\"\n",
       "            height=\"500\"\n",
       "            src=\"http://127.0.0.1:7866/\"\n",
       "            frameborder=\"0\"\n",
       "            allowfullscreen\n",
       "        ></iframe>\n",
       "        "
      ],
      "text/plain": [
       "<IPython.lib.display.IFrame at 0x137870e10>"
      ]
     },
     "metadata": {},
     "output_type": "display_data"
    },
    {
     "data": {
      "text/plain": [
       "(<Flask 'gradio.networking'>, 'http://127.0.0.1:7866/', None)"
      ]
     },
     "execution_count": 195,
     "metadata": {},
     "output_type": "execute_result"
    }
   ],
   "source": [
    "gd.Interface(mod, [Income,Spending,Seniority],\n",
    "             gd.outputs.Textbox(label='Customer Segment')).launch()"
   ]
  },
  {
   "cell_type": "code",
   "execution_count": null,
   "id": "2e06d7e0",
   "metadata": {},
   "outputs": [],
   "source": []
  },
  {
   "cell_type": "code",
   "execution_count": null,
   "id": "c18ffadc",
   "metadata": {},
   "outputs": [],
   "source": []
  },
  {
   "cell_type": "code",
   "execution_count": null,
   "id": "c573dc7c",
   "metadata": {},
   "outputs": [],
   "source": []
  },
  {
   "cell_type": "code",
   "execution_count": null,
   "id": "07750e69",
   "metadata": {},
   "outputs": [],
   "source": []
  },
  {
   "cell_type": "code",
   "execution_count": null,
   "id": "8be5b003",
   "metadata": {},
   "outputs": [],
   "source": []
  },
  {
   "cell_type": "code",
   "execution_count": null,
   "id": "ee38d133",
   "metadata": {},
   "outputs": [],
   "source": []
  },
  {
   "cell_type": "code",
   "execution_count": null,
   "id": "9210a571",
   "metadata": {},
   "outputs": [],
   "source": []
  },
  {
   "cell_type": "code",
   "execution_count": null,
   "id": "395f8851",
   "metadata": {},
   "outputs": [],
   "source": []
  }
 ],
 "metadata": {
  "kernelspec": {
   "display_name": "Python 3",
   "language": "python",
   "name": "python3"
  },
  "language_info": {
   "codemirror_mode": {
    "name": "ipython",
    "version": 3
   },
   "file_extension": ".py",
   "mimetype": "text/x-python",
   "name": "python",
   "nbconvert_exporter": "python",
   "pygments_lexer": "ipython3",
   "version": "3.7.10"
  }
 },
 "nbformat": 4,
 "nbformat_minor": 5
}
